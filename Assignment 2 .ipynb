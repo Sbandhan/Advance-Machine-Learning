{
  "nbformat": 4,
  "nbformat_minor": 0,
  "metadata": {
    "accelerator": "GPU",
    "colab": {
      "name": "Assignment2_AML_Convnet-1.ipynb",
      "provenance": [],
      "collapsed_sections": [],
      "machine_shape": "hm"
    },
    "kernelspec": {
      "display_name": "Python 3",
      "language": "python",
      "name": "python3"
    },
    "language_info": {
      "codemirror_mode": {
        "name": "ipython",
        "version": 3
      },
      "file_extension": ".py",
      "mimetype": "text/x-python",
      "name": "python",
      "nbconvert_exporter": "python",
      "pygments_lexer": "ipython3",
      "version": "3.7.0"
    }
  },
  "cells": [
    {
      "cell_type": "markdown",
      "metadata": {
        "id": "M_w9GJQWLJf0"
      },
      "source": [
        "**The purpose of this assignment is to apply convolution networks (convnets) to image data.**  "
      ]
    },
    {
      "cell_type": "markdown",
      "metadata": {
        "id": "QutUglegLJf8"
      },
      "source": [
        "## As you saw in the chapter “Deep learning for computer vision,” convents can be used successfully to classify images. Specifically, consider the Cats & Dogs example. There were two broad approaches to classifying Cats & Dogs using convnets: Training a network from scratch, versus using a pretrained convnet. While small datasets can lead to overfitting, thus making training a network for prediction more difficult, you also saw several techniques to reduce overfitting, and these include data augmentation and regularization.   "
      ]
    },
    {
      "cell_type": "markdown",
      "source": [
        "##In this assignment, you will examine the relationship between training samples and the choice of training your model from scratch, versus using a pretrained convnet. \n"
      ],
      "metadata": {
        "id": "4f4pPW_py9Kv"
      }
    },
    {
      "cell_type": "markdown",
      "source": [
        "\n",
        "\n",
        "> # Introduction to deep learning for computer vision\n",
        "\n"
      ],
      "metadata": {
        "id": "7pi-azTPWZE9"
      }
    },
    {
      "cell_type": "markdown",
      "metadata": {
        "id": "iBiW9ZHHLJf9"
      },
      "source": [
        "### Downloading the data"
      ]
    },
    {
      "cell_type": "markdown",
      "source": [
        " Uploading the json file from kaggle to access the data from dogs-vs-cats dataset."
      ],
      "metadata": {
        "id": "9KjTsStQqbNf"
      }
    },
    {
      "cell_type": "code",
      "metadata": {
        "colab": {
          "resources": {
            "http://localhost:8080/nbextensions/google.colab/files.js": {
              "data": "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",
              "ok": true,
              "headers": [
                [
                  "content-type",
                  "application/javascript"
                ]
              ],
              "status": 200,
              "status_text": ""
            }
          },
          "base_uri": "https://localhost:8080/",
          "height": 91
        },
        "id": "viYjmM2HLJf9",
        "outputId": "5245a7c3-8468-49de-f475-1d4c85f32c94"
      },
      "source": [
        "from google.colab import files\n",
        "files.upload()"
      ],
      "execution_count": 1,
      "outputs": [
        {
          "output_type": "display_data",
          "data": {
            "text/plain": [
              "<IPython.core.display.HTML object>"
            ],
            "text/html": [
              "\n",
              "     <input type=\"file\" id=\"files-d0c6bb71-3172-4913-8a71-8ddeaeb56f6b\" name=\"files[]\" multiple disabled\n",
              "        style=\"border:none\" />\n",
              "     <output id=\"result-d0c6bb71-3172-4913-8a71-8ddeaeb56f6b\">\n",
              "      Upload widget is only available when the cell has been executed in the\n",
              "      current browser session. Please rerun this cell to enable.\n",
              "      </output>\n",
              "      <script src=\"/nbextensions/google.colab/files.js\"></script> "
            ]
          },
          "metadata": {}
        },
        {
          "output_type": "stream",
          "name": "stdout",
          "text": [
            "Saving kaggle.json to kaggle.json\n"
          ]
        },
        {
          "output_type": "execute_result",
          "data": {
            "text/plain": [
              "{'kaggle.json': b'{\"username\":\"sbandhan\",\"key\":\"32f9cacea826fcefbe755a207aa34085\"}'}"
            ]
          },
          "metadata": {},
          "execution_count": 1
        }
      ]
    },
    {
      "cell_type": "code",
      "metadata": {
        "id": "bnd8M_zRLJf9"
      },
      "source": [
        "!mkdir ~/.kaggle\n",
        "!cp kaggle.json ~/.kaggle/\n",
        "!chmod 600 ~/.kaggle/kaggle.json"
      ],
      "execution_count": 2,
      "outputs": []
    },
    {
      "cell_type": "code",
      "metadata": {
        "colab": {
          "base_uri": "https://localhost:8080/"
        },
        "id": "606RcoSyLJf-",
        "outputId": "72e1b6c3-4157-4ba5-de30-1cd9a77ae00a"
      },
      "source": [
        "!kaggle competitions download -c dogs-vs-cats"
      ],
      "execution_count": 3,
      "outputs": [
        {
          "output_type": "stream",
          "name": "stdout",
          "text": [
            "Downloading dogs-vs-cats.zip to /content\n",
            " 99% 804M/812M [00:03<00:00, 217MB/s]\n",
            "100% 812M/812M [00:03<00:00, 228MB/s]\n"
          ]
        }
      ]
    },
    {
      "cell_type": "code",
      "source": [
        "!unzip -qq dogs-vs-cats"
      ],
      "metadata": {
        "id": "e48fCioYlPU6"
      },
      "execution_count": 4,
      "outputs": []
    },
    {
      "cell_type": "code",
      "metadata": {
        "id": "y8UWwdXcMOcE"
      },
      "source": [
        "!unzip -qq test1.zip"
      ],
      "execution_count": 5,
      "outputs": []
    },
    {
      "cell_type": "code",
      "metadata": {
        "id": "ABcoW4YHHkgU"
      },
      "source": [
        "!unzip -qq train.zip"
      ],
      "execution_count": 6,
      "outputs": []
    },
    {
      "cell_type": "code",
      "metadata": {
        "id": "YlOppXz1J48i"
      },
      "source": [
        "#shutil.rmtree(\"./cats_vs_dogs_small\", ignore_errors=True)\n",
        "#shutil.rmtree(\"./test1\", ignore_errors=True)\n",
        "#shutil.rmtree(\"./train\", ignore_errors=True)\n"
      ],
      "execution_count": 7,
      "outputs": []
    },
    {
      "cell_type": "markdown",
      "metadata": {
        "id": "y_d0PlVSTP3P"
      },
      "source": [
        "#1.Consider the Cats & Dogs example. Start initially with a training sample of 1000, a validation sample of 500, and a test sample of 500 (like in the text). Use any technique to reduce overfitting and improve performance in developing a network that you train from scratch. What performance did you achieve?  \n",
        "\n",
        "\n",
        "\n",
        "#### Test Accuracy - 68.3%\n",
        "\n",
        "#### Training Accuraccy - 98.25%\n",
        "\n",
        "#### Validation Accuracy - 77%"
      ]
    },
    {
      "cell_type": "markdown",
      "metadata": {
        "id": "cTtWpwnPz7b5"
      },
      "source": [
        "**Copying images to training, validation, and test directories**"
      ]
    },
    {
      "cell_type": "code",
      "metadata": {
        "id": "mkM9Kg1uLJf-"
      },
      "source": [
        "import os, shutil, pathlib\n",
        "\n",
        "original_dir = pathlib.Path(\"train\")\n",
        "new_base_dir = pathlib.Path(\"cats_vs_dogs_small\")\n",
        "\n",
        "def make_subset(subset_name, start_index, end_index):\n",
        "    for category in (\"cat\", \"dog\"):\n",
        "        dir = new_base_dir / subset_name / category\n",
        "        os.makedirs(dir)\n",
        "        fnames = [f\"{category}.{i}.jpg\" for i in range(start_index, end_index)]\n",
        "        for fname in fnames:\n",
        "            shutil.copyfile(src=original_dir / fname,\n",
        "                            dst=dir / fname)\n",
        "\n",
        "\n",
        "# Training has 1000 samples, test has 500 samples and validation has 500 samples.\n",
        "\n",
        "make_subset(\"train\", start_index=0, end_index=1000)\n",
        "make_subset(\"validation\", start_index=1000, end_index=1500)\n",
        "make_subset(\"test\", start_index=1500, end_index=2000)"
      ],
      "execution_count": 8,
      "outputs": []
    },
    {
      "cell_type": "markdown",
      "metadata": {
        "id": "A0Kl-Y9HuD5-"
      },
      "source": [
        "# Data processing\n",
        "\n",
        "Before being input into the model, the data is converted into preprocessed flaoting point tensors.\n",
        "Because the data is in JPEG format, the preprocessing stages are as follows:\n",
        "1.Read the pictures \n",
        "2. convert the JPEG content in to RGB  grid of pixels \n",
        "3.convert the RGB  grid of pixels in to floating point tensors\n",
        "4. Resize them\n",
        "5. Make them in to batches "
      ]
    },
    {
      "cell_type": "markdown",
      "metadata": {
        "id": "z4fboVketrcu"
      },
      "source": [
        "**Using `image_dataset_from_directory` to read images**"
      ]
    },
    {
      "cell_type": "code",
      "metadata": {
        "colab": {
          "base_uri": "https://localhost:8080/"
        },
        "id": "n2KO6Tz_LJgA",
        "outputId": "670ee4d7-c126-4b42-8ffe-859b89b62411"
      },
      "source": [
        "from tensorflow.keras.utils import image_dataset_from_directory\n",
        "\n",
        "train_dataset = image_dataset_from_directory(\n",
        "    new_base_dir / \"train\",\n",
        "    image_size=(180, 180),\n",
        "    batch_size=32)\n",
        "validation_dataset = image_dataset_from_directory(\n",
        "    new_base_dir / \"validation\",\n",
        "    image_size=(180, 180),\n",
        "    batch_size=32)\n",
        "test_dataset = image_dataset_from_directory(\n",
        "    new_base_dir / \"test\",\n",
        "    image_size=(180, 180),\n",
        "    batch_size=32)"
      ],
      "execution_count": 9,
      "outputs": [
        {
          "output_type": "stream",
          "name": "stdout",
          "text": [
            "Found 2000 files belonging to 2 classes.\n",
            "Found 1000 files belonging to 2 classes.\n",
            "Found 1000 files belonging to 2 classes.\n"
          ]
        }
      ]
    },
    {
      "cell_type": "markdown",
      "metadata": {
        "id": "u1ofxMIFp-nL"
      },
      "source": [
        "Create a dataset instance from NumPy array of random numbers of 1000 samples and each sample of vector size 16"
      ]
    },
    {
      "cell_type": "code",
      "metadata": {
        "id": "q-OvV49ALJgB"
      },
      "source": [
        "import numpy as np\n",
        "import tensorflow as tf\n",
        "random_numbers = np.random.normal(size=(1000, 16))\n",
        "dataset = tf.data.Dataset.from_tensor_slices(random_numbers)"
      ],
      "execution_count": 10,
      "outputs": []
    },
    {
      "cell_type": "code",
      "metadata": {
        "colab": {
          "base_uri": "https://localhost:8080/"
        },
        "id": "J2VciHhWLJgB",
        "outputId": "1f3ecf49-ba97-4403-d73d-c9cb01c5e12e"
      },
      "source": [
        "for i, element in enumerate(dataset):\n",
        "    print(element.shape)\n",
        "    if i >= 2:\n",
        "        break"
      ],
      "execution_count": 11,
      "outputs": [
        {
          "output_type": "stream",
          "name": "stdout",
          "text": [
            "(16,)\n",
            "(16,)\n",
            "(16,)\n"
          ]
        }
      ]
    },
    {
      "cell_type": "markdown",
      "metadata": {
        "id": "ltmtIkKxq4sf"
      },
      "source": [
        "Batching the data into batches of size 32"
      ]
    },
    {
      "cell_type": "code",
      "metadata": {
        "colab": {
          "base_uri": "https://localhost:8080/"
        },
        "id": "2HaIetuiLJgB",
        "outputId": "8f2258d1-841c-4664-e310-8c53a40152cc"
      },
      "source": [
        "batched_dataset = dataset.batch(32)\n",
        "for i, element in enumerate(batched_dataset):\n",
        "    print(element.shape)\n",
        "    if i >= 2:\n",
        "        break"
      ],
      "execution_count": 12,
      "outputs": [
        {
          "output_type": "stream",
          "name": "stdout",
          "text": [
            "(32, 16)\n",
            "(32, 16)\n",
            "(32, 16)\n"
          ]
        }
      ]
    },
    {
      "cell_type": "code",
      "metadata": {
        "colab": {
          "base_uri": "https://localhost:8080/"
        },
        "id": "Aqh5SrMXLJgB",
        "outputId": "bc35ab07-5405-4ba0-e52e-1de13dc116f7"
      },
      "source": [
        "reshaped_dataset = dataset.map(lambda x: tf.reshape(x, (4, 4)))\n",
        "for i, element in enumerate(reshaped_dataset):\n",
        "    print(element.shape)\n",
        "    if i >= 2:\n",
        "        break"
      ],
      "execution_count": 13,
      "outputs": [
        {
          "output_type": "stream",
          "name": "stdout",
          "text": [
            "(4, 4)\n",
            "(4, 4)\n",
            "(4, 4)\n"
          ]
        }
      ]
    },
    {
      "cell_type": "markdown",
      "metadata": {
        "id": "7nj0WdosLJgC"
      },
      "source": [
        "**Displaying the shapes of the data and labels yielded by the `Dataset`**"
      ]
    },
    {
      "cell_type": "code",
      "metadata": {
        "colab": {
          "base_uri": "https://localhost:8080/"
        },
        "id": "YLVTY3F6LJgC",
        "outputId": "05b1d4df-c8b4-4b23-d95d-314b6bf05e4e"
      },
      "source": [
        "for data_batch, labels_batch in train_dataset:\n",
        "    print(\"data batch shape:\", data_batch.shape)\n",
        "    print(\"labels batch shape:\", labels_batch.shape)\n",
        "    break"
      ],
      "execution_count": 14,
      "outputs": [
        {
          "output_type": "stream",
          "name": "stdout",
          "text": [
            "data batch shape: (32, 180, 180, 3)\n",
            "labels batch shape: (32,)\n"
          ]
        }
      ]
    },
    {
      "cell_type": "markdown",
      "metadata": {
        "id": "P1hLVDnpLJf-"
      },
      "source": [
        "##Building the model"
      ]
    },
    {
      "cell_type": "code",
      "metadata": {
        "id": "beY7fF_KLJf_"
      },
      "source": [
        "from tensorflow import keras\n",
        "from tensorflow.keras import layers\n",
        "\n",
        "inputs = keras.Input(shape=(180, 180, 3))\n",
        "x = layers.Rescaling(1./255)(inputs)\n",
        "x = layers.Conv2D(filters=32, kernel_size=3, activation=\"relu\")(x)\n",
        "x = layers.MaxPooling2D(pool_size=2)(x)\n",
        "x = layers.Conv2D(filters=64, kernel_size=3, activation=\"relu\")(x)\n",
        "x = layers.MaxPooling2D(pool_size=2)(x)\n",
        "x = layers.Conv2D(filters=128, kernel_size=3, activation=\"relu\")(x)\n",
        "x = layers.MaxPooling2D(pool_size=2)(x)\n",
        "x = layers.Conv2D(filters=256, kernel_size=3, activation=\"relu\")(x)\n",
        "x = layers.MaxPooling2D(pool_size=2)(x)\n",
        "x = layers.Conv2D(filters=256, kernel_size=3, activation=\"relu\")(x)\n",
        "x = layers.Flatten()(x)\n",
        "x = layers.Dropout(0.5)(x)\n",
        "outputs = layers.Dense(1, activation=\"sigmoid\")(x)\n",
        "model = keras.Model(inputs=inputs, outputs=outputs)"
      ],
      "execution_count": 15,
      "outputs": []
    },
    {
      "cell_type": "markdown",
      "metadata": {
        "id": "UkzEJ5iuLJgA"
      },
      "source": [
        "**Configuring the model for training**"
      ]
    },
    {
      "cell_type": "code",
      "metadata": {
        "id": "1Ytsm5F8LJgA"
      },
      "source": [
        "model.compile(loss=\"binary_crossentropy\",\n",
        "              optimizer=\"adam\",\n",
        "              metrics=[\"accuracy\"])"
      ],
      "execution_count": 16,
      "outputs": []
    },
    {
      "cell_type": "code",
      "metadata": {
        "colab": {
          "base_uri": "https://localhost:8080/"
        },
        "id": "orpQgeVVLJf_",
        "outputId": "f1e42811-8091-4763-aeea-d193cf895687"
      },
      "source": [
        "model.summary()"
      ],
      "execution_count": 17,
      "outputs": [
        {
          "output_type": "stream",
          "name": "stdout",
          "text": [
            "Model: \"model\"\n",
            "_________________________________________________________________\n",
            " Layer (type)                Output Shape              Param #   \n",
            "=================================================================\n",
            " input_1 (InputLayer)        [(None, 180, 180, 3)]     0         \n",
            "                                                                 \n",
            " rescaling (Rescaling)       (None, 180, 180, 3)       0         \n",
            "                                                                 \n",
            " conv2d (Conv2D)             (None, 178, 178, 32)      896       \n",
            "                                                                 \n",
            " max_pooling2d (MaxPooling2D  (None, 89, 89, 32)       0         \n",
            " )                                                               \n",
            "                                                                 \n",
            " conv2d_1 (Conv2D)           (None, 87, 87, 64)        18496     \n",
            "                                                                 \n",
            " max_pooling2d_1 (MaxPooling  (None, 43, 43, 64)       0         \n",
            " 2D)                                                             \n",
            "                                                                 \n",
            " conv2d_2 (Conv2D)           (None, 41, 41, 128)       73856     \n",
            "                                                                 \n",
            " max_pooling2d_2 (MaxPooling  (None, 20, 20, 128)      0         \n",
            " 2D)                                                             \n",
            "                                                                 \n",
            " conv2d_3 (Conv2D)           (None, 18, 18, 256)       295168    \n",
            "                                                                 \n",
            " max_pooling2d_3 (MaxPooling  (None, 9, 9, 256)        0         \n",
            " 2D)                                                             \n",
            "                                                                 \n",
            " conv2d_4 (Conv2D)           (None, 7, 7, 256)         590080    \n",
            "                                                                 \n",
            " flatten (Flatten)           (None, 12544)             0         \n",
            "                                                                 \n",
            " dropout (Dropout)           (None, 12544)             0         \n",
            "                                                                 \n",
            " dense (Dense)               (None, 1)                 12545     \n",
            "                                                                 \n",
            "=================================================================\n",
            "Total params: 991,041\n",
            "Trainable params: 991,041\n",
            "Non-trainable params: 0\n",
            "_________________________________________________________________\n"
          ]
        }
      ]
    },
    {
      "cell_type": "markdown",
      "metadata": {
        "id": "KDMhNkahLJgC"
      },
      "source": [
        "**Fitting the model using a `Dataset`**"
      ]
    },
    {
      "cell_type": "code",
      "metadata": {
        "colab": {
          "base_uri": "https://localhost:8080/"
        },
        "id": "3_Us5bFxLJgC",
        "outputId": "bae22423-32e6-424d-d761-b229cd1d39ef"
      },
      "source": [
        "from keras.callbacks import ModelCheckpoint, EarlyStopping\n",
        "\n",
        "callbacks = [\n",
        "    keras.callbacks.ModelCheckpoint(\n",
        "        filepath=\"convnet_from_scratch.keras\",\n",
        "        save_best_only=True,\n",
        "        monitor=\"val_loss\")\n",
        "]\n",
        "history = model.fit(\n",
        "    train_dataset,\n",
        "    epochs=30,\n",
        "    validation_data=validation_dataset,\n",
        "    callbacks=callbacks)"
      ],
      "execution_count": 18,
      "outputs": [
        {
          "output_type": "stream",
          "name": "stdout",
          "text": [
            "Epoch 1/30\n",
            "63/63 [==============================] - 20s 127ms/step - loss: 0.6942 - accuracy: 0.5110 - val_loss: 0.6899 - val_accuracy: 0.5000\n",
            "Epoch 2/30\n",
            "63/63 [==============================] - 7s 112ms/step - loss: 0.6934 - accuracy: 0.5135 - val_loss: 0.6906 - val_accuracy: 0.5440\n",
            "Epoch 3/30\n",
            "63/63 [==============================] - 8s 114ms/step - loss: 0.6892 - accuracy: 0.5025 - val_loss: 0.6826 - val_accuracy: 0.5370\n",
            "Epoch 4/30\n",
            "63/63 [==============================] - 7s 113ms/step - loss: 0.6778 - accuracy: 0.5735 - val_loss: 0.6786 - val_accuracy: 0.5740\n",
            "Epoch 5/30\n",
            "63/63 [==============================] - 7s 113ms/step - loss: 0.6404 - accuracy: 0.6455 - val_loss: 0.6413 - val_accuracy: 0.6440\n",
            "Epoch 6/30\n",
            "63/63 [==============================] - 7s 113ms/step - loss: 0.6172 - accuracy: 0.6560 - val_loss: 0.6235 - val_accuracy: 0.6540\n",
            "Epoch 7/30\n",
            "63/63 [==============================] - 7s 113ms/step - loss: 0.5996 - accuracy: 0.6800 - val_loss: 0.6048 - val_accuracy: 0.6820\n",
            "Epoch 8/30\n",
            "63/63 [==============================] - 7s 111ms/step - loss: 0.5856 - accuracy: 0.7010 - val_loss: 0.6580 - val_accuracy: 0.6220\n",
            "Epoch 9/30\n",
            "63/63 [==============================] - 7s 112ms/step - loss: 0.5502 - accuracy: 0.7225 - val_loss: 0.6416 - val_accuracy: 0.6810\n",
            "Epoch 10/30\n",
            "63/63 [==============================] - 7s 113ms/step - loss: 0.4906 - accuracy: 0.7490 - val_loss: 0.6773 - val_accuracy: 0.6800\n",
            "Epoch 11/30\n",
            "63/63 [==============================] - 7s 114ms/step - loss: 0.4747 - accuracy: 0.7755 - val_loss: 0.6416 - val_accuracy: 0.6870\n",
            "Epoch 12/30\n",
            "63/63 [==============================] - 7s 112ms/step - loss: 0.4314 - accuracy: 0.7970 - val_loss: 0.6209 - val_accuracy: 0.7180\n",
            "Epoch 13/30\n",
            "63/63 [==============================] - 7s 111ms/step - loss: 0.3606 - accuracy: 0.8255 - val_loss: 0.6425 - val_accuracy: 0.7450\n",
            "Epoch 14/30\n",
            "63/63 [==============================] - 7s 112ms/step - loss: 0.3051 - accuracy: 0.8555 - val_loss: 0.6517 - val_accuracy: 0.7390\n",
            "Epoch 15/30\n",
            "63/63 [==============================] - 7s 112ms/step - loss: 0.2663 - accuracy: 0.8920 - val_loss: 0.6437 - val_accuracy: 0.7370\n",
            "Epoch 16/30\n",
            "63/63 [==============================] - 8s 114ms/step - loss: 0.2273 - accuracy: 0.9015 - val_loss: 0.7204 - val_accuracy: 0.7290\n",
            "Epoch 17/30\n",
            "63/63 [==============================] - 7s 112ms/step - loss: 0.1772 - accuracy: 0.9265 - val_loss: 0.7737 - val_accuracy: 0.7570\n",
            "Epoch 18/30\n",
            "63/63 [==============================] - 7s 112ms/step - loss: 0.1585 - accuracy: 0.9325 - val_loss: 0.7994 - val_accuracy: 0.7640\n",
            "Epoch 19/30\n",
            "63/63 [==============================] - 7s 113ms/step - loss: 0.0919 - accuracy: 0.9645 - val_loss: 0.9661 - val_accuracy: 0.7450\n",
            "Epoch 20/30\n",
            "63/63 [==============================] - 7s 113ms/step - loss: 0.0980 - accuracy: 0.9620 - val_loss: 0.9601 - val_accuracy: 0.7480\n",
            "Epoch 21/30\n",
            "63/63 [==============================] - 7s 113ms/step - loss: 0.0900 - accuracy: 0.9650 - val_loss: 1.0624 - val_accuracy: 0.7450\n",
            "Epoch 22/30\n",
            "63/63 [==============================] - 7s 113ms/step - loss: 0.0916 - accuracy: 0.9720 - val_loss: 1.0660 - val_accuracy: 0.7590\n",
            "Epoch 23/30\n",
            "63/63 [==============================] - 7s 112ms/step - loss: 0.0697 - accuracy: 0.9755 - val_loss: 0.9968 - val_accuracy: 0.7690\n",
            "Epoch 24/30\n",
            "63/63 [==============================] - 7s 113ms/step - loss: 0.0606 - accuracy: 0.9760 - val_loss: 1.1386 - val_accuracy: 0.7580\n",
            "Epoch 25/30\n",
            "63/63 [==============================] - 7s 112ms/step - loss: 0.0813 - accuracy: 0.9675 - val_loss: 1.0717 - val_accuracy: 0.7530\n",
            "Epoch 26/30\n",
            "63/63 [==============================] - 7s 113ms/step - loss: 0.0426 - accuracy: 0.9855 - val_loss: 1.1434 - val_accuracy: 0.7640\n",
            "Epoch 27/30\n",
            "63/63 [==============================] - 7s 113ms/step - loss: 0.0327 - accuracy: 0.9890 - val_loss: 1.2555 - val_accuracy: 0.7560\n",
            "Epoch 28/30\n",
            "63/63 [==============================] - 7s 113ms/step - loss: 0.0458 - accuracy: 0.9850 - val_loss: 1.2671 - val_accuracy: 0.7630\n",
            "Epoch 29/30\n",
            "63/63 [==============================] - 7s 113ms/step - loss: 0.0425 - accuracy: 0.9845 - val_loss: 1.1736 - val_accuracy: 0.7700\n",
            "Epoch 30/30\n",
            "63/63 [==============================] - 7s 113ms/step - loss: 0.0239 - accuracy: 0.9915 - val_loss: 1.4036 - val_accuracy: 0.7460\n"
          ]
        }
      ]
    },
    {
      "cell_type": "markdown",
      "metadata": {
        "id": "wFh51DoALJgC"
      },
      "source": [
        "**Displaying curves of loss and accuracy during training**"
      ]
    },
    {
      "cell_type": "code",
      "metadata": {
        "colab": {
          "base_uri": "https://localhost:8080/",
          "height": 1000
        },
        "id": "k4Iv3jPhLJgC",
        "outputId": "7628a9f1-7366-41cc-f080-0ed2ce76783d"
      },
      "source": [
        "\n",
        "import matplotlib.pyplot as plt\n",
        "\n",
        "plt.figure(figsize=(10, 10))\n",
        "accuracy = history.history[\"accuracy\"]\n",
        "val_accuracy = history.history[\"val_accuracy\"]\n",
        "loss = history.history[\"loss\"]\n",
        "val_loss = history.history[\"val_loss\"]\n",
        "epochs = range(1, len(accuracy) + 1)\n",
        "plt.plot(epochs, accuracy, \"bo\", label=\"Training accuracy\")\n",
        "plt.plot(epochs, val_accuracy, \"b\", label=\"Validation accuracy\")\n",
        "plt.title(\"Training and validation accuracy\")\n",
        "plt.legend()\n",
        "plt.figure()\n",
        "plt.figure(figsize=(10, 10))\n",
        "plt.plot(epochs, loss, \"bo\", label=\"Training loss\")\n",
        "plt.plot(epochs, val_loss, \"b\", label=\"Validation loss\")\n",
        "plt.title(\"Training and validation loss\")\n",
        "plt.legend()\n",
        "plt.show()"
      ],
      "execution_count": 19,
      "outputs": [
        {
          "output_type": "display_data",
          "data": {
            "text/plain": [
              "<Figure size 720x720 with 1 Axes>"
            ],
            "image/png": "[encoded data removed]"
          },
          "metadata": {
            "needs_background": "light"
          }
        },
        {
          "output_type": "display_data",
          "data": {
            "text/plain": [
              "<Figure size 432x288 with 0 Axes>"
            ]
          },
          "metadata": {}
        },
        {
          "output_type": "display_data",
          "data": {
            "text/plain": [
              "<Figure size 720x720 with 1 Axes>"
            ],
            "image/png": "[encoded data removed]"
          },
          "metadata": {
            "needs_background": "light"
          }
        }
      ]
    },
    {
      "cell_type": "markdown",
      "metadata": {
        "id": "IxhZlNRjLJgD"
      },
      "source": [
        "**Evaluating the model on the test set**"
      ]
    },
    {
      "cell_type": "code",
      "metadata": {
        "colab": {
          "base_uri": "https://localhost:8080/"
        },
        "id": "rnkCdcr2LJgD",
        "outputId": "8f691588-b40d-4fd8-fb11-ae0e947f99c4"
      },
      "source": [
        "test_model = keras.models.load_model(\"convnet_from_scratch.keras\")\n",
        "test_loss, test_acc = test_model.evaluate(test_dataset)\n",
        "print(f\"Test accuracy: {test_acc:.3f}\")"
      ],
      "execution_count": 20,
      "outputs": [
        {
          "output_type": "stream",
          "name": "stdout",
          "text": [
            "32/32 [==============================] - 2s 50ms/step - loss: 0.6072 - accuracy: 0.6830\n",
            "Test accuracy: 0.683\n"
          ]
        }
      ]
    },
    {
      "cell_type": "markdown",
      "source": [
        "From the above result we can conclude that the test accuracy is about 70.6% when the Training accuracy is about 98.75%."
      ],
      "metadata": {
        "id": "VcgAAycYULjn"
      }
    },
    {
      "cell_type": "markdown",
      "metadata": {
        "id": "JYJ0Y_Jtcy7O"
      },
      "source": [
        "# 2.Increase your training sample size. You may pick any amount. Keep the validation and test samples the same as above. Optimize your network (again training from scratch). What performance did you achieve?  "
      ]
    },
    {
      "cell_type": "markdown",
      "metadata": {
        "id": "a-M774A19ZOx"
      },
      "source": [
        "#### Test Accuracy - 78%\n",
        "\n",
        "#### Training Accuraccy - 81.1%\n",
        "\n",
        "#### Validation Accuracy - 83.1%\n"
      ]
    },
    {
      "cell_type": "markdown",
      "metadata": {
        "id": "go8Th_HDLJgD"
      },
      "source": [
        "**Define a data augmentation stage to add to an image model**"
      ]
    },
    {
      "cell_type": "code",
      "metadata": {
        "id": "Ecz_riV30EGy"
      },
      "source": [
        "import os, shutil, pathlib\n",
        "\n",
        "shutil.rmtree(\"./cats_vs_dogs_small_Q2\", ignore_errors=True)\n",
        "\n",
        "original_dir = pathlib.Path(\"train\")\n",
        "new_base_dir = pathlib.Path(\"cats_vs_dogs_small_Q2\")\n",
        "\n",
        "def make_subset(subset_name, start_index, end_index):\n",
        "    for category in (\"cat\", \"dog\"):\n",
        "        dir = new_base_dir / subset_name / category\n",
        "        os.makedirs(dir)\n",
        "        fnames = [f\"{category}.{i}.jpg\" for i in range(start_index, end_index)]\n",
        "        for fname in fnames:\n",
        "            shutil.copyfile(src=original_dir / fname,\n",
        "                            dst=dir / fname)\n",
        "#Creating training, Test and validation sets.\n",
        "#Training has 1500 samples, test has 500 samples and validation has 500 samples.\n",
        "make_subset(\"train\", start_index=0, end_index=1500)\n",
        "make_subset(\"validation\", start_index=1500, end_index=2000)\n",
        "make_subset(\"test\", start_index=2000, end_index=2500)"
      ],
      "execution_count": 21,
      "outputs": []
    },
    {
      "cell_type": "code",
      "metadata": {
        "id": "RopcC5mFLJgE"
      },
      "source": [
        "data_augmentation = keras.Sequential(\n",
        "    [\n",
        "        layers.RandomFlip(\"horizontal\"),\n",
        "        layers.RandomRotation(0.1),\n",
        "        layers.RandomZoom(0.2),\n",
        "    ]\n",
        ")"
      ],
      "execution_count": 22,
      "outputs": []
    },
    {
      "cell_type": "markdown",
      "metadata": {
        "id": "cRpQ-P8eLJgE"
      },
      "source": [
        "**Displaying some randomly augmented training images**"
      ]
    },
    {
      "cell_type": "code",
      "metadata": {
        "colab": {
          "base_uri": "https://localhost:8080/",
          "height": 575
        },
        "id": "w4fdl64zLJgE",
        "outputId": "aadd2306-326f-4052-8349-96f4ba118137"
      },
      "source": [
        "plt.figure(figsize=(10, 10))\n",
        "for images, _ in train_dataset.take(1):\n",
        "    for i in range(9):\n",
        "        augmented_images = data_augmentation(images)\n",
        "        ax = plt.subplot(3, 3, i + 1)\n",
        "        plt.imshow(augmented_images[0].numpy().astype(\"uint8\"))\n",
        "        plt.axis(\"off\")"
      ],
      "execution_count": 23,
      "outputs": [
        {
          "output_type": "display_data",
          "data": {
            "text/plain": [
              "<Figure size 720x720 with 9 Axes>"
            ],
            "image/png": "[encoded data removed]"
          },
          "metadata": {
            "needs_background": "light"
          }
        }
      ]
    },
    {
      "cell_type": "markdown",
      "metadata": {
        "id": "mtaPOa7ILJgE"
      },
      "source": [
        "**Defining a new convnet that includes image augmentation and dropout**"
      ]
    },
    {
      "cell_type": "code",
      "metadata": {
        "id": "zziUmvoPLJgE"
      },
      "source": [
        "inputs = keras.Input(shape=(180, 180, 3))\n",
        "x = data_augmentation(inputs)\n",
        "x = layers.Rescaling(1./255)(x)\n",
        "x = layers.Conv2D(filters=32, kernel_size=3, activation=\"relu\")(x)\n",
        "x = layers.MaxPooling2D(pool_size=2)(x)\n",
        "x = layers.Conv2D(filters=64, kernel_size=3, activation=\"relu\")(x)\n",
        "x = layers.MaxPooling2D(pool_size=2)(x)\n",
        "x = layers.Conv2D(filters=128, kernel_size=3, activation=\"relu\")(x)\n",
        "x = layers.MaxPooling2D(pool_size=2)(x)\n",
        "x = layers.Conv2D(filters=256, kernel_size=3, activation=\"relu\")(x)\n",
        "x = layers.MaxPooling2D(pool_size=2)(x)\n",
        "x = layers.Conv2D(filters=256, kernel_size=3, activation=\"relu\")(x)\n",
        "x = layers.Flatten()(x)\n",
        "x = layers.Dropout(0.5)(x)\n",
        "outputs = layers.Dense(1, activation=\"sigmoid\")(x)\n",
        "model = keras.Model(inputs=inputs, outputs=outputs)\n",
        "\n",
        "model.compile(loss=\"binary_crossentropy\",\n",
        "              optimizer=\"adam\",\n",
        "              metrics=[\"accuracy\"])"
      ],
      "execution_count": 24,
      "outputs": []
    },
    {
      "cell_type": "markdown",
      "metadata": {
        "id": "8cneVnr6LJgF"
      },
      "source": [
        "**Training the regularized convnet**"
      ]
    },
    {
      "cell_type": "code",
      "metadata": {
        "colab": {
          "base_uri": "https://localhost:8080/"
        },
        "id": "cc6rLTqeLJgF",
        "outputId": "7346f59e-87ff-4354-cb11-8a7abbb7d03c"
      },
      "source": [
        "callbacks = [\n",
        "    keras.callbacks.ModelCheckpoint(\n",
        "        filepath=\"convnet_from_scratch_with_augmentation.keras\",\n",
        "        save_best_only=True,\n",
        "        monitor=\"val_loss\")\n",
        "]\n",
        "history = model.fit(\n",
        "    train_dataset,\n",
        "    epochs=50,\n",
        "    validation_data=validation_dataset,\n",
        "    callbacks=callbacks)"
      ],
      "execution_count": 25,
      "outputs": [
        {
          "output_type": "stream",
          "name": "stdout",
          "text": [
            "Epoch 1/50\n",
            "63/63 [==============================] - 10s 121ms/step - loss: 0.6950 - accuracy: 0.4915 - val_loss: 0.6932 - val_accuracy: 0.5000\n",
            "Epoch 2/50\n",
            "63/63 [==============================] - 8s 119ms/step - loss: 0.6934 - accuracy: 0.5055 - val_loss: 0.6928 - val_accuracy: 0.5000\n",
            "Epoch 3/50\n",
            "63/63 [==============================] - 8s 118ms/step - loss: 0.6939 - accuracy: 0.5110 - val_loss: 0.6932 - val_accuracy: 0.5000\n",
            "Epoch 4/50\n",
            "63/63 [==============================] - 8s 118ms/step - loss: 0.6931 - accuracy: 0.4975 - val_loss: 0.6931 - val_accuracy: 0.5060\n",
            "Epoch 5/50\n",
            "63/63 [==============================] - 8s 119ms/step - loss: 0.6933 - accuracy: 0.4810 - val_loss: 0.6932 - val_accuracy: 0.4940\n",
            "Epoch 6/50\n",
            "63/63 [==============================] - 8s 119ms/step - loss: 0.6920 - accuracy: 0.5160 - val_loss: 0.6891 - val_accuracy: 0.5040\n",
            "Epoch 7/50\n",
            "63/63 [==============================] - 8s 119ms/step - loss: 0.6827 - accuracy: 0.5775 - val_loss: 0.6742 - val_accuracy: 0.5510\n",
            "Epoch 8/50\n",
            "63/63 [==============================] - 8s 119ms/step - loss: 0.6644 - accuracy: 0.6240 - val_loss: 0.6504 - val_accuracy: 0.6130\n",
            "Epoch 9/50\n",
            "63/63 [==============================] - 8s 119ms/step - loss: 0.6518 - accuracy: 0.6225 - val_loss: 0.6499 - val_accuracy: 0.6320\n",
            "Epoch 10/50\n",
            "63/63 [==============================] - 8s 119ms/step - loss: 0.6388 - accuracy: 0.6300 - val_loss: 0.6468 - val_accuracy: 0.6270\n",
            "Epoch 11/50\n",
            "63/63 [==============================] - 8s 119ms/step - loss: 0.6240 - accuracy: 0.6650 - val_loss: 0.6287 - val_accuracy: 0.6400\n",
            "Epoch 12/50\n",
            "63/63 [==============================] - 8s 118ms/step - loss: 0.6070 - accuracy: 0.6875 - val_loss: 0.6169 - val_accuracy: 0.6680\n",
            "Epoch 13/50\n",
            "63/63 [==============================] - 8s 120ms/step - loss: 0.5944 - accuracy: 0.6855 - val_loss: 0.6583 - val_accuracy: 0.6400\n",
            "Epoch 14/50\n",
            "63/63 [==============================] - 8s 119ms/step - loss: 0.6037 - accuracy: 0.6830 - val_loss: 0.5930 - val_accuracy: 0.6940\n",
            "Epoch 15/50\n",
            "63/63 [==============================] - 8s 119ms/step - loss: 0.5752 - accuracy: 0.7105 - val_loss: 0.5920 - val_accuracy: 0.6920\n",
            "Epoch 16/50\n",
            "63/63 [==============================] - 8s 119ms/step - loss: 0.5876 - accuracy: 0.6960 - val_loss: 0.5749 - val_accuracy: 0.6860\n",
            "Epoch 17/50\n",
            "63/63 [==============================] - 8s 118ms/step - loss: 0.5761 - accuracy: 0.6940 - val_loss: 0.5996 - val_accuracy: 0.6730\n",
            "Epoch 18/50\n",
            "63/63 [==============================] - 8s 119ms/step - loss: 0.5491 - accuracy: 0.7160 - val_loss: 0.5713 - val_accuracy: 0.7000\n",
            "Epoch 19/50\n",
            "63/63 [==============================] - 8s 119ms/step - loss: 0.5532 - accuracy: 0.7135 - val_loss: 0.5513 - val_accuracy: 0.6990\n",
            "Epoch 20/50\n",
            "63/63 [==============================] - 8s 121ms/step - loss: 0.5275 - accuracy: 0.7450 - val_loss: 0.5119 - val_accuracy: 0.7320\n",
            "Epoch 21/50\n",
            "63/63 [==============================] - 8s 118ms/step - loss: 0.5234 - accuracy: 0.7450 - val_loss: 0.5414 - val_accuracy: 0.7090\n",
            "Epoch 22/50\n",
            "63/63 [==============================] - 8s 118ms/step - loss: 0.5229 - accuracy: 0.7435 - val_loss: 0.5230 - val_accuracy: 0.7310\n",
            "Epoch 23/50\n",
            "63/63 [==============================] - 8s 117ms/step - loss: 0.5178 - accuracy: 0.7470 - val_loss: 0.5307 - val_accuracy: 0.7290\n",
            "Epoch 24/50\n",
            "63/63 [==============================] - 8s 119ms/step - loss: 0.5091 - accuracy: 0.7520 - val_loss: 0.5484 - val_accuracy: 0.7190\n",
            "Epoch 25/50\n",
            "63/63 [==============================] - 8s 119ms/step - loss: 0.4943 - accuracy: 0.7570 - val_loss: 0.5440 - val_accuracy: 0.7130\n",
            "Epoch 26/50\n",
            "63/63 [==============================] - 8s 118ms/step - loss: 0.4928 - accuracy: 0.7505 - val_loss: 0.5177 - val_accuracy: 0.7510\n",
            "Epoch 27/50\n",
            "63/63 [==============================] - 8s 119ms/step - loss: 0.4871 - accuracy: 0.7585 - val_loss: 0.4896 - val_accuracy: 0.7580\n",
            "Epoch 28/50\n",
            "63/63 [==============================] - 8s 120ms/step - loss: 0.4903 - accuracy: 0.7690 - val_loss: 0.4808 - val_accuracy: 0.7570\n",
            "Epoch 29/50\n",
            "63/63 [==============================] - 8s 119ms/step - loss: 0.4983 - accuracy: 0.7520 - val_loss: 0.4735 - val_accuracy: 0.7690\n",
            "Epoch 30/50\n",
            "63/63 [==============================] - 8s 119ms/step - loss: 0.4642 - accuracy: 0.7810 - val_loss: 0.4619 - val_accuracy: 0.7840\n",
            "Epoch 31/50\n",
            "63/63 [==============================] - 8s 118ms/step - loss: 0.4718 - accuracy: 0.7695 - val_loss: 0.4806 - val_accuracy: 0.7700\n",
            "Epoch 32/50\n",
            "63/63 [==============================] - 8s 118ms/step - loss: 0.4518 - accuracy: 0.7930 - val_loss: 0.4630 - val_accuracy: 0.7790\n",
            "Epoch 33/50\n",
            "63/63 [==============================] - 8s 118ms/step - loss: 0.4460 - accuracy: 0.7890 - val_loss: 0.4820 - val_accuracy: 0.7620\n",
            "Epoch 34/50\n",
            "63/63 [==============================] - 8s 119ms/step - loss: 0.4361 - accuracy: 0.7900 - val_loss: 0.4469 - val_accuracy: 0.7750\n",
            "Epoch 35/50\n",
            "63/63 [==============================] - 8s 117ms/step - loss: 0.4326 - accuracy: 0.7895 - val_loss: 0.4485 - val_accuracy: 0.7850\n",
            "Epoch 36/50\n",
            "63/63 [==============================] - 8s 118ms/step - loss: 0.4334 - accuracy: 0.8020 - val_loss: 0.5249 - val_accuracy: 0.7440\n",
            "Epoch 37/50\n",
            "63/63 [==============================] - 8s 118ms/step - loss: 0.4537 - accuracy: 0.7920 - val_loss: 0.4745 - val_accuracy: 0.7780\n",
            "Epoch 38/50\n",
            "63/63 [==============================] - 8s 118ms/step - loss: 0.4272 - accuracy: 0.8045 - val_loss: 0.4563 - val_accuracy: 0.7890\n",
            "Epoch 39/50\n",
            "63/63 [==============================] - 8s 117ms/step - loss: 0.4060 - accuracy: 0.8130 - val_loss: 0.4499 - val_accuracy: 0.7970\n",
            "Epoch 40/50\n",
            "63/63 [==============================] - 8s 118ms/step - loss: 0.4176 - accuracy: 0.8040 - val_loss: 0.4832 - val_accuracy: 0.7810\n",
            "Epoch 41/50\n",
            "63/63 [==============================] - 8s 119ms/step - loss: 0.4226 - accuracy: 0.7930 - val_loss: 0.4796 - val_accuracy: 0.7660\n",
            "Epoch 42/50\n",
            "63/63 [==============================] - 8s 116ms/step - loss: 0.4275 - accuracy: 0.7980 - val_loss: 0.4500 - val_accuracy: 0.7860\n",
            "Epoch 43/50\n",
            "63/63 [==============================] - 8s 118ms/step - loss: 0.3836 - accuracy: 0.8220 - val_loss: 0.4342 - val_accuracy: 0.8100\n",
            "Epoch 44/50\n",
            "63/63 [==============================] - 8s 120ms/step - loss: 0.3916 - accuracy: 0.8170 - val_loss: 0.4290 - val_accuracy: 0.8030\n",
            "Epoch 45/50\n",
            "63/63 [==============================] - 8s 117ms/step - loss: 0.3998 - accuracy: 0.8165 - val_loss: 0.4321 - val_accuracy: 0.8050\n",
            "Epoch 46/50\n",
            "63/63 [==============================] - 8s 121ms/step - loss: 0.3770 - accuracy: 0.8270 - val_loss: 0.4252 - val_accuracy: 0.8170\n",
            "Epoch 47/50\n",
            "63/63 [==============================] - 8s 117ms/step - loss: 0.3750 - accuracy: 0.8295 - val_loss: 0.4740 - val_accuracy: 0.7960\n",
            "Epoch 48/50\n",
            "63/63 [==============================] - 8s 118ms/step - loss: 0.3772 - accuracy: 0.8285 - val_loss: 0.4574 - val_accuracy: 0.8080\n",
            "Epoch 49/50\n",
            "63/63 [==============================] - 8s 117ms/step - loss: 0.3597 - accuracy: 0.8370 - val_loss: 0.4560 - val_accuracy: 0.8110\n",
            "Epoch 50/50\n",
            "63/63 [==============================] - 8s 117ms/step - loss: 0.3901 - accuracy: 0.8250 - val_loss: 0.4437 - val_accuracy: 0.8070\n"
          ]
        }
      ]
    },
    {
      "cell_type": "markdown",
      "metadata": {
        "id": "K7R_41A7LJgF"
      },
      "source": [
        "**Evaluating the model on the test set**"
      ]
    },
    {
      "cell_type": "code",
      "metadata": {
        "colab": {
          "base_uri": "https://localhost:8080/"
        },
        "id": "LWMgTFPOLJgF",
        "outputId": "66d1870d-5070-4abe-e2b1-ee6135c7e0f0"
      },
      "source": [
        "test_model = keras.models.load_model(\n",
        "    \"convnet_from_scratch_with_augmentation.keras\")\n",
        "test_loss, test_acc = test_model.evaluate(test_dataset)\n",
        "print(f\"Test accuracy: {test_acc:.3f}\")"
      ],
      "execution_count": 26,
      "outputs": [
        {
          "output_type": "stream",
          "name": "stdout",
          "text": [
            "32/32 [==============================] - 2s 48ms/step - loss: 0.4933 - accuracy: 0.7800\n",
            "Test accuracy: 0.780\n"
          ]
        }
      ]
    },
    {
      "cell_type": "markdown",
      "metadata": {
        "id": "ZBTatsuzYBsL"
      },
      "source": [
        "# 3.Now change your training sample so that you achieve better performance than those from Steps 1 and 2. This sample size may be larger, or smaller than those in the previous steps. The objective is to find the ideal training sample size to get best prediction results. \n"
      ]
    },
    {
      "cell_type": "markdown",
      "metadata": {
        "id": "1JTDXQOn8ndK"
      },
      "source": [
        "#### Test Accuracy - 75.4%\n",
        "\n",
        "#### Training Accuraccy - 78%\n",
        "\n",
        "#### Validation Accuracy - 80%\n",
        "\n"
      ]
    },
    {
      "cell_type": "markdown",
      "source": [
        "**Increasing the training sample size to 2000 while maintaining the same validation and test sets  as before 500 samples**"
      ],
      "metadata": {
        "id": "i1g_tR-2X3pE"
      }
    },
    {
      "cell_type": "code",
      "metadata": {
        "id": "WNwoFRIWwzCa"
      },
      "source": [
        "original_dir = pathlib.Path(\"train\")\n",
        "new_base_dir = pathlib.Path(\"cats_vs_dogs_small_Q3\")\n",
        "\n",
        "def make_subset(subset_name, start_index, end_index):\n",
        "    for category in (\"cat\", \"dog\"):\n",
        "        dir = new_base_dir / subset_name / category\n",
        "        os.makedirs(dir)\n",
        "        fnames = [f\"{category}.{i}.jpg\" for i in range(start_index, end_index)]\n",
        "        for fname in fnames:\n",
        "            shutil.copyfile(src=original_dir / fname,\n",
        "                            dst=dir / fname)\n",
        "#Creating training, Test and validation sets.\n",
        "#Training has 2000 samples, test has 500 samples and validation has 500 samples.\n",
        "make_subset(\"train\", start_index=0, end_index=2000)\n",
        "make_subset(\"validation\", start_index=2000, end_index=2500)\n",
        "make_subset(\"test\", start_index=2500, end_index=3000)"
      ],
      "execution_count": 27,
      "outputs": []
    },
    {
      "cell_type": "markdown",
      "metadata": {
        "id": "q4Dy_A0exWqN"
      },
      "source": [
        "**Creating  a new convnet with more training samples,image enhancement and dropuot**"
      ]
    },
    {
      "cell_type": "code",
      "metadata": {
        "id": "2HIQ8cHQxWOF"
      },
      "source": [
        "inputs = keras.Input(shape=(180, 180, 3))\n",
        "x = data_augmentation(inputs)\n",
        "x = layers.Rescaling(1./255)(x)\n",
        "x = layers.Conv2D(filters=32, kernel_size=3, activation=\"relu\")(x)\n",
        "x = layers.MaxPooling2D(pool_size=2)(x)\n",
        "x = layers.Conv2D(filters=64, kernel_size=3, activation=\"relu\")(x)\n",
        "x = layers.MaxPooling2D(pool_size=2)(x)\n",
        "x = layers.Conv2D(filters=128, kernel_size=3, activation=\"relu\")(x)\n",
        "x = layers.MaxPooling2D(pool_size=2)(x)\n",
        "x = layers.Conv2D(filters=256, kernel_size=3, activation=\"relu\")(x)\n",
        "x = layers.MaxPooling2D(pool_size=2)(x)\n",
        "x = layers.Conv2D(filters=256, kernel_size=3, activation=\"relu\")(x)\n",
        "x = layers.Flatten()(x)\n",
        "x = layers.Dropout(0.5)(x)\n",
        "outputs = layers.Dense(1, activation=\"sigmoid\")(x)\n",
        "model = keras.Model(inputs=inputs, outputs=outputs)\n",
        "\n",
        "model.compile(loss=\"binary_crossentropy\",\n",
        "              optimizer=\"adam\",\n",
        "              metrics=[\"accuracy\"])"
      ],
      "execution_count": 28,
      "outputs": []
    },
    {
      "cell_type": "code",
      "metadata": {
        "colab": {
          "base_uri": "https://localhost:8080/"
        },
        "id": "TC3vdZWhQLu3",
        "outputId": "94baab3a-1c5d-4859-cb29-16eb8cb1ca65"
      },
      "source": [
        "callbacks = [\n",
        "    keras.callbacks.ModelCheckpoint(\n",
        "        filepath=\"convnet_from_scratch_with_augmentation1.keras\",\n",
        "        save_best_only=True,\n",
        "        monitor=\"val_loss\")\n",
        "]\n",
        "history = model.fit(\n",
        "    train_dataset,\n",
        "    epochs=50,\n",
        "    validation_data=validation_dataset,\n",
        "    callbacks=callbacks)"
      ],
      "execution_count": 29,
      "outputs": [
        {
          "output_type": "stream",
          "name": "stdout",
          "text": [
            "Epoch 1/50\n",
            "63/63 [==============================] - 9s 121ms/step - loss: 0.6983 - accuracy: 0.5135 - val_loss: 0.6932 - val_accuracy: 0.5000\n",
            "Epoch 2/50\n",
            "63/63 [==============================] - 8s 118ms/step - loss: 0.6933 - accuracy: 0.5075 - val_loss: 0.6930 - val_accuracy: 0.5000\n",
            "Epoch 3/50\n",
            "63/63 [==============================] - 8s 118ms/step - loss: 0.6933 - accuracy: 0.4990 - val_loss: 0.6915 - val_accuracy: 0.5680\n",
            "Epoch 4/50\n",
            "63/63 [==============================] - 8s 117ms/step - loss: 0.6924 - accuracy: 0.5190 - val_loss: 0.6981 - val_accuracy: 0.4980\n",
            "Epoch 5/50\n",
            "63/63 [==============================] - 8s 119ms/step - loss: 0.6950 - accuracy: 0.4890 - val_loss: 0.6913 - val_accuracy: 0.5440\n",
            "Epoch 6/50\n",
            "63/63 [==============================] - 8s 121ms/step - loss: 0.6895 - accuracy: 0.5255 - val_loss: 0.6902 - val_accuracy: 0.5260\n",
            "Epoch 7/50\n",
            "63/63 [==============================] - 8s 118ms/step - loss: 0.6883 - accuracy: 0.5345 - val_loss: 0.6932 - val_accuracy: 0.5000\n",
            "Epoch 8/50\n",
            "63/63 [==============================] - 8s 118ms/step - loss: 0.6934 - accuracy: 0.4845 - val_loss: 0.6931 - val_accuracy: 0.5000\n",
            "Epoch 9/50\n",
            "63/63 [==============================] - 8s 117ms/step - loss: 0.6935 - accuracy: 0.4945 - val_loss: 0.6932 - val_accuracy: 0.4860\n",
            "Epoch 10/50\n",
            "63/63 [==============================] - 8s 118ms/step - loss: 0.6919 - accuracy: 0.5045 - val_loss: 0.6889 - val_accuracy: 0.5500\n",
            "Epoch 11/50\n",
            "63/63 [==============================] - 8s 118ms/step - loss: 0.6907 - accuracy: 0.5220 - val_loss: 0.6937 - val_accuracy: 0.5150\n",
            "Epoch 12/50\n",
            "63/63 [==============================] - 8s 117ms/step - loss: 0.6922 - accuracy: 0.5170 - val_loss: 0.6936 - val_accuracy: 0.5150\n",
            "Epoch 13/50\n",
            "63/63 [==============================] - 8s 117ms/step - loss: 0.6943 - accuracy: 0.5045 - val_loss: 0.6931 - val_accuracy: 0.5010\n",
            "Epoch 14/50\n",
            "63/63 [==============================] - 8s 119ms/step - loss: 0.6910 - accuracy: 0.5275 - val_loss: 0.6906 - val_accuracy: 0.4980\n",
            "Epoch 15/50\n",
            "63/63 [==============================] - 8s 117ms/step - loss: 0.6941 - accuracy: 0.4985 - val_loss: 0.6938 - val_accuracy: 0.5010\n",
            "Epoch 16/50\n",
            "63/63 [==============================] - 8s 117ms/step - loss: 0.6944 - accuracy: 0.5055 - val_loss: 0.6931 - val_accuracy: 0.4990\n",
            "Epoch 17/50\n",
            "63/63 [==============================] - 8s 117ms/step - loss: 0.6932 - accuracy: 0.4995 - val_loss: 0.6931 - val_accuracy: 0.5000\n",
            "Epoch 18/50\n",
            "63/63 [==============================] - 8s 117ms/step - loss: 0.6931 - accuracy: 0.5010 - val_loss: 0.6920 - val_accuracy: 0.4950\n",
            "Epoch 19/50\n",
            "63/63 [==============================] - 8s 119ms/step - loss: 0.6903 - accuracy: 0.5230 - val_loss: 0.6925 - val_accuracy: 0.5140\n",
            "Epoch 20/50\n",
            "63/63 [==============================] - 8s 118ms/step - loss: 0.6914 - accuracy: 0.5120 - val_loss: 0.6720 - val_accuracy: 0.5590\n",
            "Epoch 21/50\n",
            "63/63 [==============================] - 8s 118ms/step - loss: 0.6690 - accuracy: 0.5930 - val_loss: 0.6640 - val_accuracy: 0.5670\n",
            "Epoch 22/50\n",
            "63/63 [==============================] - 8s 118ms/step - loss: 0.6685 - accuracy: 0.6225 - val_loss: 0.6546 - val_accuracy: 0.6290\n",
            "Epoch 23/50\n",
            "63/63 [==============================] - 8s 118ms/step - loss: 0.6677 - accuracy: 0.5990 - val_loss: 0.6378 - val_accuracy: 0.6320\n",
            "Epoch 24/50\n",
            "63/63 [==============================] - 8s 117ms/step - loss: 0.6368 - accuracy: 0.6560 - val_loss: 0.6512 - val_accuracy: 0.5970\n",
            "Epoch 25/50\n",
            "63/63 [==============================] - 8s 117ms/step - loss: 0.6412 - accuracy: 0.6320 - val_loss: 0.6528 - val_accuracy: 0.6260\n",
            "Epoch 26/50\n",
            "63/63 [==============================] - 8s 118ms/step - loss: 0.6324 - accuracy: 0.6420 - val_loss: 0.6186 - val_accuracy: 0.6620\n",
            "Epoch 27/50\n",
            "63/63 [==============================] - 8s 120ms/step - loss: 0.6199 - accuracy: 0.6640 - val_loss: 0.6663 - val_accuracy: 0.6250\n",
            "Epoch 28/50\n",
            "63/63 [==============================] - 8s 117ms/step - loss: 0.6225 - accuracy: 0.6675 - val_loss: 0.6193 - val_accuracy: 0.6500\n",
            "Epoch 29/50\n",
            "63/63 [==============================] - 8s 119ms/step - loss: 0.6111 - accuracy: 0.6690 - val_loss: 0.6115 - val_accuracy: 0.6640\n",
            "Epoch 30/50\n",
            "63/63 [==============================] - 8s 117ms/step - loss: 0.6047 - accuracy: 0.6885 - val_loss: 0.6445 - val_accuracy: 0.5730\n",
            "Epoch 31/50\n",
            "63/63 [==============================] - 8s 117ms/step - loss: 0.6021 - accuracy: 0.6815 - val_loss: 0.6257 - val_accuracy: 0.6550\n",
            "Epoch 32/50\n",
            "63/63 [==============================] - 8s 120ms/step - loss: 0.5795 - accuracy: 0.7080 - val_loss: 0.5720 - val_accuracy: 0.7040\n",
            "Epoch 33/50\n",
            "63/63 [==============================] - 8s 117ms/step - loss: 0.5606 - accuracy: 0.7055 - val_loss: 0.5994 - val_accuracy: 0.6650\n",
            "Epoch 34/50\n",
            "63/63 [==============================] - 8s 118ms/step - loss: 0.5602 - accuracy: 0.7060 - val_loss: 0.5822 - val_accuracy: 0.7000\n",
            "Epoch 35/50\n",
            "63/63 [==============================] - 8s 118ms/step - loss: 0.5442 - accuracy: 0.7295 - val_loss: 0.6242 - val_accuracy: 0.6830\n",
            "Epoch 36/50\n",
            "63/63 [==============================] - 8s 121ms/step - loss: 0.5565 - accuracy: 0.7075 - val_loss: 0.5489 - val_accuracy: 0.7300\n",
            "Epoch 37/50\n",
            "63/63 [==============================] - 8s 117ms/step - loss: 0.5177 - accuracy: 0.7470 - val_loss: 0.5490 - val_accuracy: 0.7360\n",
            "Epoch 38/50\n",
            "63/63 [==============================] - 8s 117ms/step - loss: 0.5132 - accuracy: 0.7480 - val_loss: 0.5813 - val_accuracy: 0.7030\n",
            "Epoch 39/50\n",
            "63/63 [==============================] - 8s 118ms/step - loss: 0.5096 - accuracy: 0.7515 - val_loss: 0.5590 - val_accuracy: 0.7430\n",
            "Epoch 40/50\n",
            "63/63 [==============================] - 8s 119ms/step - loss: 0.5237 - accuracy: 0.7410 - val_loss: 0.5160 - val_accuracy: 0.7520\n",
            "Epoch 41/50\n",
            "63/63 [==============================] - 8s 119ms/step - loss: 0.5048 - accuracy: 0.7480 - val_loss: 0.5091 - val_accuracy: 0.7620\n",
            "Epoch 42/50\n",
            "63/63 [==============================] - 8s 119ms/step - loss: 0.4884 - accuracy: 0.7575 - val_loss: 0.5021 - val_accuracy: 0.7620\n",
            "Epoch 43/50\n",
            "63/63 [==============================] - 8s 118ms/step - loss: 0.4837 - accuracy: 0.7635 - val_loss: 0.5231 - val_accuracy: 0.7310\n",
            "Epoch 44/50\n",
            "63/63 [==============================] - 8s 117ms/step - loss: 0.4740 - accuracy: 0.7795 - val_loss: 0.5300 - val_accuracy: 0.7440\n",
            "Epoch 45/50\n",
            "63/63 [==============================] - 8s 119ms/step - loss: 0.4654 - accuracy: 0.7865 - val_loss: 0.5020 - val_accuracy: 0.7460\n",
            "Epoch 46/50\n",
            "63/63 [==============================] - 8s 119ms/step - loss: 0.4410 - accuracy: 0.7940 - val_loss: 0.5206 - val_accuracy: 0.7450\n",
            "Epoch 47/50\n",
            "63/63 [==============================] - 8s 119ms/step - loss: 0.4563 - accuracy: 0.7925 - val_loss: 0.4783 - val_accuracy: 0.7780\n",
            "Epoch 48/50\n",
            "63/63 [==============================] - 8s 118ms/step - loss: 0.4669 - accuracy: 0.7800 - val_loss: 0.5650 - val_accuracy: 0.7170\n",
            "Epoch 49/50\n",
            "63/63 [==============================] - 8s 118ms/step - loss: 0.4289 - accuracy: 0.8035 - val_loss: 0.4890 - val_accuracy: 0.7870\n",
            "Epoch 50/50\n",
            "63/63 [==============================] - 8s 118ms/step - loss: 0.4088 - accuracy: 0.8105 - val_loss: 0.5026 - val_accuracy: 0.7700\n"
          ]
        }
      ]
    },
    {
      "cell_type": "code",
      "metadata": {
        "colab": {
          "base_uri": "https://localhost:8080/"
        },
        "id": "dl-PYvrHR2GC",
        "outputId": "d829a548-89c8-403b-e3ba-f5b118a3a83a"
      },
      "source": [
        "test_model = keras.models.load_model(\n",
        "    \"convnet_from_scratch_with_augmentation1.keras\")\n",
        "test_loss, test_acc = test_model.evaluate(test_dataset)\n",
        "print(f\"Test accuracy: {test_acc:.3f}\")"
      ],
      "execution_count": 30,
      "outputs": [
        {
          "output_type": "stream",
          "name": "stdout",
          "text": [
            "32/32 [==============================] - 2s 52ms/step - loss: 0.5222 - accuracy: 0.7540\n",
            "Test accuracy: 0.754\n"
          ]
        }
      ]
    },
    {
      "cell_type": "markdown",
      "metadata": {
        "id": "iLu-7fNMCykm"
      },
      "source": [
        "**I began with the training a sample convnet on the 1,000 training samples with out any optimization to establish a base line ,which resulted in the classification accuracy was around 0.7780% and the Overfitting was recognized as the main problem Then i went through  data augmentation and other optimization strategies including earlystopping (determining the ideal number of epochs),Regularization,and drop out .Then i raised the model's accuracy to 0.786 by applying data augmentation.**\n",
        "\n",
        "\n",
        "#After that i looked  for the best training sample to improve  classification accuracy\n",
        " The best approach  to avoid overfitting  have been discovered by manipulating the training sample  and using the optimization techniques\n",
        "\n",
        " 1.Getting more training samples:It is not always practical to expand the training sample. Data Augmentation is one technique to make the most of the fewer training data.\n",
        "\n",
        " 2.Reducing the capacity of the work:Overfitting is significantly reduced when the model's size is reduced, i.e. the number of learnable parameters in the model, which is effectively the number of layers and the number of units in layers.\n",
        "\n",
        "3.Adding weight regularization:Limiting the complexity of a network by restricting the weights to accept only tiny values, which helps to regularize the distribution of the weight values and so prevents or minimizes overfitting.\n",
        "\n",
        "4.Adding dropout:Overfitting is reduced by zeroing out a number of the layer's output characteristics during training. The percentage of features that are zeroed out is known as the dropout rate."
      ]
    },
    {
      "cell_type": "markdown",
      "metadata": {
        "id": "LrPR3elMLJgF"
      },
      "source": [
        "#4.Repeat Steps 1-3, but now using a pretrained network. The sample sizes you use in Steps 2 and 3 for the pretrained network may be the same or different from those using the network where you trained from scratch. Again, use any and all optimization techniques to get best performance.  "
      ]
    },
    {
      "cell_type": "markdown",
      "source": [
        "#** Using a pretrained model to apply deep learning to tiny image datasets is a highly effective method. A pretrained model is one that has been trained earlier on a big dataset, usually for a large-scale image classification problem.**\n",
        "We will use a big convnet trained on the ImageNet dataset in this scenario (1.4 million labeled images and 1,000 different classes). We will use  the VGG16 architecture, although there are a variety of other architectures to choose from, including VGG, ResNet, Inception, Xception, and so on."
      ],
      "metadata": {
        "id": "DwEvWgQrYS2e"
      }
    },
    {
      "cell_type": "markdown",
      "source": [
        "**Feature Extraction with a pretrained model**\n",
        "\n",
        "Feature extraction is the process of extracting important features from new samples using the representations acquired by a previously trained model (in our instance, ImageNet). These characteristics are then fed into a new classifier that has been trained from the ground up."
      ],
      "metadata": {
        "id": "j6G5boTAYYlp"
      }
    },
    {
      "cell_type": "markdown",
      "metadata": {
        "id": "zz2pq2ajLJgG"
      },
      "source": [
        "**Instantiating the VGG16 convolutional base**"
      ]
    },
    {
      "cell_type": "code",
      "metadata": {
        "id": "skbTdg2GLJgG",
        "colab": {
          "base_uri": "https://localhost:8080/"
        },
        "outputId": "363e03bd-642c-442d-cb6b-e9d654727293"
      },
      "source": [
        "conv_base = keras.applications.vgg16.VGG16(\n",
        "    weights=\"imagenet\",\n",
        "    include_top=False,\n",
        "    input_shape=(180, 180, 3))"
      ],
      "execution_count": 31,
      "outputs": [
        {
          "output_type": "stream",
          "name": "stdout",
          "text": [
            "Downloading data from https://storage.googleapis.com/tensorflow/keras-applications/vgg16/vgg16_weights_tf_dim_ordering_tf_kernels_notop.h5\n",
            "58892288/58889256 [==============================] - 0s 0us/step\n",
            "58900480/58889256 [==============================] - 0s 0us/step\n"
          ]
        }
      ]
    },
    {
      "cell_type": "code",
      "metadata": {
        "id": "pE4zRVz7LJgG",
        "colab": {
          "base_uri": "https://localhost:8080/"
        },
        "outputId": "1dd9be22-95f6-497b-c2db-a6ce57f3c3de"
      },
      "source": [
        "conv_base.summary()"
      ],
      "execution_count": 32,
      "outputs": [
        {
          "output_type": "stream",
          "name": "stdout",
          "text": [
            "Model: \"vgg16\"\n",
            "_________________________________________________________________\n",
            " Layer (type)                Output Shape              Param #   \n",
            "=================================================================\n",
            " input_4 (InputLayer)        [(None, 180, 180, 3)]     0         \n",
            "                                                                 \n",
            " block1_conv1 (Conv2D)       (None, 180, 180, 64)      1792      \n",
            "                                                                 \n",
            " block1_conv2 (Conv2D)       (None, 180, 180, 64)      36928     \n",
            "                                                                 \n",
            " block1_pool (MaxPooling2D)  (None, 90, 90, 64)        0         \n",
            "                                                                 \n",
            " block2_conv1 (Conv2D)       (None, 90, 90, 128)       73856     \n",
            "                                                                 \n",
            " block2_conv2 (Conv2D)       (None, 90, 90, 128)       147584    \n",
            "                                                                 \n",
            " block2_pool (MaxPooling2D)  (None, 45, 45, 128)       0         \n",
            "                                                                 \n",
            " block3_conv1 (Conv2D)       (None, 45, 45, 256)       295168    \n",
            "                                                                 \n",
            " block3_conv2 (Conv2D)       (None, 45, 45, 256)       590080    \n",
            "                                                                 \n",
            " block3_conv3 (Conv2D)       (None, 45, 45, 256)       590080    \n",
            "                                                                 \n",
            " block3_pool (MaxPooling2D)  (None, 22, 22, 256)       0         \n",
            "                                                                 \n",
            " block4_conv1 (Conv2D)       (None, 22, 22, 512)       1180160   \n",
            "                                                                 \n",
            " block4_conv2 (Conv2D)       (None, 22, 22, 512)       2359808   \n",
            "                                                                 \n",
            " block4_conv3 (Conv2D)       (None, 22, 22, 512)       2359808   \n",
            "                                                                 \n",
            " block4_pool (MaxPooling2D)  (None, 11, 11, 512)       0         \n",
            "                                                                 \n",
            " block5_conv1 (Conv2D)       (None, 11, 11, 512)       2359808   \n",
            "                                                                 \n",
            " block5_conv2 (Conv2D)       (None, 11, 11, 512)       2359808   \n",
            "                                                                 \n",
            " block5_conv3 (Conv2D)       (None, 11, 11, 512)       2359808   \n",
            "                                                                 \n",
            " block5_pool (MaxPooling2D)  (None, 5, 5, 512)         0         \n",
            "                                                                 \n",
            "=================================================================\n",
            "Total params: 14,714,688\n",
            "Trainable params: 14,714,688\n",
            "Non-trainable params: 0\n",
            "_________________________________________________________________\n"
          ]
        }
      ]
    },
    {
      "cell_type": "markdown",
      "metadata": {
        "id": "SfdIeb-CLJgG"
      },
      "source": [
        "### Feature extraction without data augmentation using a pretrained model"
      ]
    },
    {
      "cell_type": "markdown",
      "metadata": {
        "id": "IuoRUabiLJgG"
      },
      "source": [
        "**Extracting the VGG16 features and corresponding labels**"
      ]
    },
    {
      "cell_type": "code",
      "metadata": {
        "id": "diN5BO8WLJgG"
      },
      "source": [
        "import numpy as np\n",
        "\n",
        "def get_features_and_labels(dataset):\n",
        "    all_features = []\n",
        "    all_labels = []\n",
        "    for images, labels in dataset:\n",
        "        preprocessed_images = keras.applications.vgg16.preprocess_input(images)\n",
        "        features = conv_base.predict(preprocessed_images)\n",
        "        all_features.append(features)\n",
        "        all_labels.append(labels)\n",
        "    return np.concatenate(all_features), np.concatenate(all_labels)\n",
        "\n",
        "train_features, train_labels =  get_features_and_labels(train_dataset)\n",
        "val_features, val_labels =  get_features_and_labels(validation_dataset)\n",
        "test_features, test_labels =  get_features_and_labels(test_dataset)"
      ],
      "execution_count": 33,
      "outputs": []
    },
    {
      "cell_type": "code",
      "metadata": {
        "id": "Sfa_c6LQLJgG",
        "colab": {
          "base_uri": "https://localhost:8080/"
        },
        "outputId": "7e0463cc-5bee-4e65-a7dc-93ce25609049"
      },
      "source": [
        "train_features.shape"
      ],
      "execution_count": 34,
      "outputs": [
        {
          "output_type": "execute_result",
          "data": {
            "text/plain": [
              "(2000, 5, 5, 512)"
            ]
          },
          "metadata": {},
          "execution_count": 34
        }
      ]
    },
    {
      "cell_type": "markdown",
      "metadata": {
        "id": "3hK0qBZZLJgH"
      },
      "source": [
        "**Defining and training the densely connected classifier**"
      ]
    },
    {
      "cell_type": "code",
      "metadata": {
        "id": "taVrYpkcLJgH",
        "colab": {
          "base_uri": "https://localhost:8080/"
        },
        "outputId": "085a2e29-c3a9-423f-be5d-7cbee57e7910"
      },
      "source": [
        "inputs = keras.Input(shape=(5, 5, 512))\n",
        "x = layers.Flatten()(inputs)\n",
        "x = layers.Dense(256)(x)\n",
        "x = layers.Dropout(0.5)(x)\n",
        "outputs = layers.Dense(1, activation=\"sigmoid\")(x)\n",
        "model = keras.Model(inputs, outputs)\n",
        "model.compile(loss=\"binary_crossentropy\",\n",
        "              optimizer=\"rmsprop\",\n",
        "              metrics=[\"accuracy\"])\n",
        "\n",
        "callbacks = [\n",
        "    keras.callbacks.ModelCheckpoint(\n",
        "      filepath=\"feature_extraction.keras\",\n",
        "      save_best_only=True,\n",
        "      monitor=\"val_loss\")\n",
        "]\n",
        "history = model.fit(\n",
        "    train_features, train_labels,\n",
        "    epochs=20,\n",
        "    validation_data=(val_features, val_labels),\n",
        "    callbacks=callbacks)"
      ],
      "execution_count": 35,
      "outputs": [
        {
          "output_type": "stream",
          "name": "stdout",
          "text": [
            "Epoch 1/20\n",
            "63/63 [==============================] - 2s 13ms/step - loss: 16.8442 - accuracy: 0.9295 - val_loss: 2.4309 - val_accuracy: 0.9740\n",
            "Epoch 2/20\n",
            "63/63 [==============================] - 1s 10ms/step - loss: 3.8572 - accuracy: 0.9760 - val_loss: 8.7635 - val_accuracy: 0.9560\n",
            "Epoch 3/20\n",
            "63/63 [==============================] - 1s 9ms/step - loss: 2.4812 - accuracy: 0.9835 - val_loss: 2.7485 - val_accuracy: 0.9750\n",
            "Epoch 4/20\n",
            "63/63 [==============================] - 1s 11ms/step - loss: 1.1347 - accuracy: 0.9895 - val_loss: 1.9847 - val_accuracy: 0.9820\n",
            "Epoch 5/20\n",
            "63/63 [==============================] - 1s 10ms/step - loss: 1.6041 - accuracy: 0.9875 - val_loss: 7.2993 - val_accuracy: 0.9660\n",
            "Epoch 6/20\n",
            "63/63 [==============================] - 1s 10ms/step - loss: 1.2773 - accuracy: 0.9925 - val_loss: 9.0656 - val_accuracy: 0.9630\n",
            "Epoch 7/20\n",
            "63/63 [==============================] - 1s 10ms/step - loss: 0.1468 - accuracy: 0.9965 - val_loss: 5.1295 - val_accuracy: 0.9810\n",
            "Epoch 8/20\n",
            "63/63 [==============================] - 1s 9ms/step - loss: 0.3483 - accuracy: 0.9970 - val_loss: 5.5221 - val_accuracy: 0.9750\n",
            "Epoch 9/20\n",
            "63/63 [==============================] - 1s 10ms/step - loss: 0.0812 - accuracy: 0.9980 - val_loss: 4.7655 - val_accuracy: 0.9780\n",
            "Epoch 10/20\n",
            "63/63 [==============================] - 1s 10ms/step - loss: 0.3131 - accuracy: 0.9980 - val_loss: 7.1030 - val_accuracy: 0.9690\n",
            "Epoch 11/20\n",
            "63/63 [==============================] - 1s 10ms/step - loss: 0.2032 - accuracy: 0.9985 - val_loss: 4.5434 - val_accuracy: 0.9810\n",
            "Epoch 12/20\n",
            "63/63 [==============================] - 1s 10ms/step - loss: 0.0704 - accuracy: 0.9990 - val_loss: 4.4656 - val_accuracy: 0.9770\n",
            "Epoch 13/20\n",
            "63/63 [==============================] - 1s 10ms/step - loss: 0.3048 - accuracy: 0.9980 - val_loss: 3.9852 - val_accuracy: 0.9800\n",
            "Epoch 14/20\n",
            "63/63 [==============================] - 1s 10ms/step - loss: 0.2651 - accuracy: 0.9980 - val_loss: 4.7719 - val_accuracy: 0.9770\n",
            "Epoch 15/20\n",
            "63/63 [==============================] - 1s 10ms/step - loss: 5.5735e-13 - accuracy: 1.0000 - val_loss: 4.7719 - val_accuracy: 0.9770\n",
            "Epoch 16/20\n",
            "63/63 [==============================] - 1s 9ms/step - loss: 0.0352 - accuracy: 0.9995 - val_loss: 5.2318 - val_accuracy: 0.9760\n",
            "Epoch 17/20\n",
            "63/63 [==============================] - 1s 10ms/step - loss: 0.2371 - accuracy: 0.9975 - val_loss: 5.4783 - val_accuracy: 0.9760\n",
            "Epoch 18/20\n",
            "63/63 [==============================] - 1s 10ms/step - loss: 0.1271 - accuracy: 0.9990 - val_loss: 5.0199 - val_accuracy: 0.9770\n",
            "Epoch 19/20\n",
            "63/63 [==============================] - 1s 10ms/step - loss: 0.1704 - accuracy: 0.9985 - val_loss: 8.4116 - val_accuracy: 0.9740\n",
            "Epoch 20/20\n",
            "63/63 [==============================] - 1s 10ms/step - loss: 0.2277 - accuracy: 0.9980 - val_loss: 5.2018 - val_accuracy: 0.9760\n"
          ]
        }
      ]
    },
    {
      "cell_type": "markdown",
      "metadata": {
        "id": "OIgzvXnHLJgH"
      },
      "source": [
        "**Plotting the results**"
      ]
    },
    {
      "cell_type": "code",
      "metadata": {
        "id": "8_s5AqAjLJgH",
        "colab": {
          "base_uri": "https://localhost:8080/",
          "height": 545
        },
        "outputId": "f8c801b3-fb96-4d0c-b1ec-e7e218ce3aa1"
      },
      "source": [
        "import matplotlib.pyplot as plt\n",
        "acc = history.history[\"accuracy\"]\n",
        "val_acc = history.history[\"val_accuracy\"]\n",
        "loss = history.history[\"loss\"]\n",
        "val_loss = history.history[\"val_loss\"]\n",
        "epochs = range(1, len(acc) + 1)\n",
        "plt.plot(epochs, acc, \"bo\", label=\"Training accuracy\")\n",
        "plt.plot(epochs, val_acc, \"b\", label=\"Validation accuracy\")\n",
        "plt.title(\"Training and validation accuracy\")\n",
        "plt.legend()\n",
        "plt.figure()\n",
        "plt.plot(epochs, loss, \"bo\", label=\"Training loss\")\n",
        "plt.plot(epochs, val_loss, \"b\", label=\"Validation loss\")\n",
        "plt.title(\"Training and validation loss\")\n",
        "plt.legend()\n",
        "plt.show()"
      ],
      "execution_count": 36,
      "outputs": [
        {
          "output_type": "display_data",
          "data": {
            "text/plain": [
              "<Figure size 432x288 with 1 Axes>"
            ],
            "image/png": "[encoded data removed]"
          },
          "metadata": {
            "needs_background": "light"
          }
        },
        {
          "output_type": "display_data",
          "data": {
            "text/plain": [
              "<Figure size 432x288 with 1 Axes>"
            ],
            "image/png": "[encoded data removed]"
          },
          "metadata": {
            "needs_background": "light"
          }
        }
      ]
    },
    {
      "cell_type": "markdown",
      "metadata": {
        "id": "0XzEsaqmLJgH"
      },
      "source": [
        "#  Features extraction  with data agumentation using a pretrained model \n",
        "\n",
        "### Test Accuracy - 97.7%\n",
        "\n",
        "### Validation Accuracy - 98.5%\n",
        "\n",
        "### Training Accuracy - 98.9%"
      ]
    },
    {
      "cell_type": "markdown",
      "metadata": {
        "id": "xbNGfHSmLJgH"
      },
      "source": [
        "**Instantiating and freezing the VGG16 convolutional base**"
      ]
    },
    {
      "cell_type": "code",
      "metadata": {
        "id": "4dQb9DQCLJgI"
      },
      "source": [
        "conv_base  = keras.applications.vgg16.VGG16(\n",
        "    weights=\"imagenet\",\n",
        "    include_top=False)\n",
        "conv_base.trainable = False"
      ],
      "execution_count": 37,
      "outputs": []
    },
    {
      "cell_type": "markdown",
      "metadata": {
        "id": "lo4EDoRLLJgI"
      },
      "source": [
        "**Printing the list of trainable weights before and after freezing**"
      ]
    },
    {
      "cell_type": "code",
      "metadata": {
        "id": "uXuWbLaXLJgI",
        "colab": {
          "base_uri": "https://localhost:8080/"
        },
        "outputId": "618fb3f2-af55-4c58-d918-89535c62ee65"
      },
      "source": [
        "conv_base.trainable = True\n",
        "print(\"This is the number of trainable weights \"\n",
        "      \"before freezing the conv base:\", len(conv_base.trainable_weights))"
      ],
      "execution_count": 38,
      "outputs": [
        {
          "output_type": "stream",
          "name": "stdout",
          "text": [
            "This is the number of trainable weights before freezing the conv base: 26\n"
          ]
        }
      ]
    },
    {
      "cell_type": "code",
      "metadata": {
        "id": "ymDWZ8j4LJgI",
        "colab": {
          "base_uri": "https://localhost:8080/"
        },
        "outputId": "6b4ff7e1-d6bf-4418-e9e5-92f324cc2acc"
      },
      "source": [
        "conv_base.trainable = False\n",
        "print(\"This is the number of trainable weights \"\n",
        "      \"after freezing the conv base:\", len(conv_base.trainable_weights))"
      ],
      "execution_count": 39,
      "outputs": [
        {
          "output_type": "stream",
          "name": "stdout",
          "text": [
            "This is the number of trainable weights after freezing the conv base: 0\n"
          ]
        }
      ]
    },
    {
      "cell_type": "markdown",
      "metadata": {
        "id": "23uNfxn6LJgI"
      },
      "source": [
        "**Adding a data augmentation stage and a classifier to the convolutional base**"
      ]
    },
    {
      "cell_type": "code",
      "metadata": {
        "id": "VNgRDR0hLJgI"
      },
      "source": [
        "data_augmentation = keras.Sequential(\n",
        "    [\n",
        "        layers.RandomFlip(\"horizontal\"),\n",
        "        layers.RandomRotation(0.1),\n",
        "        layers.RandomZoom(0.2),\n",
        "    ]\n",
        ")\n",
        "\n",
        "inputs = keras.Input(shape=(180, 180, 3))\n",
        "x = data_augmentation(inputs)\n",
        "x = keras.applications.vgg16.preprocess_input(x)\n",
        "x = conv_base(x)\n",
        "x = layers.Flatten()(x)\n",
        "x = layers.Dense(256)(x)\n",
        "x = layers.Dropout(0.5)(x)\n",
        "outputs = layers.Dense(1, activation=\"sigmoid\")(x)\n",
        "model = keras.Model(inputs, outputs)\n",
        "model.compile(loss=\"binary_crossentropy\",\n",
        "              optimizer=\"rmsprop\",\n",
        "              metrics=[\"accuracy\"])"
      ],
      "execution_count": 40,
      "outputs": []
    },
    {
      "cell_type": "code",
      "metadata": {
        "id": "rktZ-i64LJgI",
        "colab": {
          "base_uri": "https://localhost:8080/"
        },
        "outputId": "b8913c5d-b37f-46e0-f8d4-8d8428f37d6f"
      },
      "source": [
        "callbacks = [\n",
        "    keras.callbacks.ModelCheckpoint(\n",
        "        filepath=\"feature_extraction_with_data_augmentation.keras\",\n",
        "        save_best_only=True,\n",
        "        monitor=\"val_loss\")\n",
        "]\n",
        "history = model.fit(\n",
        "    train_dataset,\n",
        "    epochs=50,\n",
        "    validation_data=validation_dataset,\n",
        "    callbacks=callbacks)"
      ],
      "execution_count": 41,
      "outputs": [
        {
          "output_type": "stream",
          "name": "stdout",
          "text": [
            "Epoch 1/50\n",
            "63/63 [==============================] - 24s 353ms/step - loss: 21.6438 - accuracy: 0.8905 - val_loss: 5.2440 - val_accuracy: 0.9720\n",
            "Epoch 2/50\n",
            "63/63 [==============================] - 22s 340ms/step - loss: 7.0660 - accuracy: 0.9490 - val_loss: 8.5745 - val_accuracy: 0.9520\n",
            "Epoch 3/50\n",
            "63/63 [==============================] - 22s 340ms/step - loss: 5.8796 - accuracy: 0.9515 - val_loss: 5.8756 - val_accuracy: 0.9710\n",
            "Epoch 4/50\n",
            "63/63 [==============================] - 22s 344ms/step - loss: 5.5211 - accuracy: 0.9595 - val_loss: 4.4857 - val_accuracy: 0.9730\n",
            "Epoch 5/50\n",
            "63/63 [==============================] - 22s 340ms/step - loss: 4.9671 - accuracy: 0.9620 - val_loss: 4.6937 - val_accuracy: 0.9770\n",
            "Epoch 6/50\n",
            "63/63 [==============================] - 22s 343ms/step - loss: 2.8346 - accuracy: 0.9780 - val_loss: 4.0841 - val_accuracy: 0.9760\n",
            "Epoch 7/50\n",
            "63/63 [==============================] - 22s 340ms/step - loss: 4.4121 - accuracy: 0.9655 - val_loss: 8.8625 - val_accuracy: 0.9580\n",
            "Epoch 8/50\n",
            "63/63 [==============================] - 22s 339ms/step - loss: 3.3158 - accuracy: 0.9700 - val_loss: 4.5584 - val_accuracy: 0.9750\n",
            "Epoch 9/50\n",
            "63/63 [==============================] - 22s 344ms/step - loss: 2.3532 - accuracy: 0.9725 - val_loss: 3.5607 - val_accuracy: 0.9780\n",
            "Epoch 10/50\n",
            "63/63 [==============================] - 22s 338ms/step - loss: 3.4829 - accuracy: 0.9740 - val_loss: 7.0532 - val_accuracy: 0.9670\n",
            "Epoch 11/50\n",
            "63/63 [==============================] - 22s 339ms/step - loss: 2.6207 - accuracy: 0.9760 - val_loss: 4.3574 - val_accuracy: 0.9720\n",
            "Epoch 12/50\n",
            "63/63 [==============================] - 22s 340ms/step - loss: 2.9351 - accuracy: 0.9735 - val_loss: 4.0980 - val_accuracy: 0.9750\n",
            "Epoch 13/50\n",
            "63/63 [==============================] - 22s 340ms/step - loss: 2.3925 - accuracy: 0.9755 - val_loss: 7.7472 - val_accuracy: 0.9590\n",
            "Epoch 14/50\n",
            "63/63 [==============================] - 22s 344ms/step - loss: 0.9575 - accuracy: 0.9845 - val_loss: 3.5111 - val_accuracy: 0.9810\n",
            "Epoch 15/50\n",
            "63/63 [==============================] - 22s 340ms/step - loss: 1.8181 - accuracy: 0.9755 - val_loss: 3.5430 - val_accuracy: 0.9780\n",
            "Epoch 16/50\n",
            "63/63 [==============================] - 22s 344ms/step - loss: 1.6485 - accuracy: 0.9820 - val_loss: 3.2919 - val_accuracy: 0.9830\n",
            "Epoch 17/50\n",
            "63/63 [==============================] - 22s 339ms/step - loss: 1.9501 - accuracy: 0.9815 - val_loss: 4.2371 - val_accuracy: 0.9730\n",
            "Epoch 18/50\n",
            "63/63 [==============================] - 22s 340ms/step - loss: 1.6893 - accuracy: 0.9810 - val_loss: 3.8224 - val_accuracy: 0.9770\n",
            "Epoch 19/50\n",
            "63/63 [==============================] - 22s 343ms/step - loss: 1.0334 - accuracy: 0.9825 - val_loss: 3.0583 - val_accuracy: 0.9760\n",
            "Epoch 20/50\n",
            "63/63 [==============================] - 22s 340ms/step - loss: 0.8203 - accuracy: 0.9875 - val_loss: 3.8201 - val_accuracy: 0.9770\n",
            "Epoch 21/50\n",
            "63/63 [==============================] - 22s 339ms/step - loss: 1.2652 - accuracy: 0.9840 - val_loss: 4.1641 - val_accuracy: 0.9770\n",
            "Epoch 22/50\n",
            "63/63 [==============================] - 22s 339ms/step - loss: 1.9428 - accuracy: 0.9775 - val_loss: 3.2378 - val_accuracy: 0.9810\n",
            "Epoch 23/50\n",
            "63/63 [==============================] - 22s 339ms/step - loss: 1.1866 - accuracy: 0.9850 - val_loss: 3.5304 - val_accuracy: 0.9760\n",
            "Epoch 24/50\n",
            "63/63 [==============================] - 25s 392ms/step - loss: 1.1094 - accuracy: 0.9845 - val_loss: 3.6974 - val_accuracy: 0.9710\n",
            "Epoch 25/50\n",
            "63/63 [==============================] - 22s 344ms/step - loss: 1.0042 - accuracy: 0.9850 - val_loss: 2.2230 - val_accuracy: 0.9810\n",
            "Epoch 26/50\n",
            "63/63 [==============================] - 22s 339ms/step - loss: 0.6135 - accuracy: 0.9900 - val_loss: 3.0060 - val_accuracy: 0.9790\n",
            "Epoch 27/50\n",
            "63/63 [==============================] - 22s 339ms/step - loss: 0.9427 - accuracy: 0.9850 - val_loss: 3.4013 - val_accuracy: 0.9770\n",
            "Epoch 28/50\n",
            "63/63 [==============================] - 22s 340ms/step - loss: 0.5383 - accuracy: 0.9905 - val_loss: 2.8903 - val_accuracy: 0.9780\n",
            "Epoch 29/50\n",
            "63/63 [==============================] - 22s 344ms/step - loss: 1.0228 - accuracy: 0.9860 - val_loss: 2.1786 - val_accuracy: 0.9810\n",
            "Epoch 30/50\n",
            "63/63 [==============================] - 22s 340ms/step - loss: 0.9734 - accuracy: 0.9910 - val_loss: 2.4351 - val_accuracy: 0.9820\n",
            "Epoch 31/50\n",
            "63/63 [==============================] - 22s 340ms/step - loss: 0.5708 - accuracy: 0.9905 - val_loss: 2.3300 - val_accuracy: 0.9810\n",
            "Epoch 32/50\n",
            "63/63 [==============================] - 22s 339ms/step - loss: 0.5334 - accuracy: 0.9900 - val_loss: 3.1179 - val_accuracy: 0.9750\n",
            "Epoch 33/50\n",
            "63/63 [==============================] - 22s 340ms/step - loss: 0.2899 - accuracy: 0.9910 - val_loss: 2.7990 - val_accuracy: 0.9780\n",
            "Epoch 34/50\n",
            "63/63 [==============================] - 22s 340ms/step - loss: 0.8694 - accuracy: 0.9890 - val_loss: 2.2518 - val_accuracy: 0.9840\n",
            "Epoch 35/50\n",
            "63/63 [==============================] - 22s 340ms/step - loss: 0.6365 - accuracy: 0.9870 - val_loss: 3.4277 - val_accuracy: 0.9720\n",
            "Epoch 36/50\n",
            "63/63 [==============================] - 22s 339ms/step - loss: 0.6807 - accuracy: 0.9895 - val_loss: 2.5136 - val_accuracy: 0.9750\n",
            "Epoch 37/50\n",
            "63/63 [==============================] - 22s 340ms/step - loss: 0.9493 - accuracy: 0.9865 - val_loss: 3.2764 - val_accuracy: 0.9760\n",
            "Epoch 38/50\n",
            "63/63 [==============================] - 22s 340ms/step - loss: 0.6015 - accuracy: 0.9895 - val_loss: 2.3120 - val_accuracy: 0.9830\n",
            "Epoch 39/50\n",
            "63/63 [==============================] - 22s 345ms/step - loss: 1.0005 - accuracy: 0.9820 - val_loss: 2.1270 - val_accuracy: 0.9850\n",
            "Epoch 40/50\n",
            "63/63 [==============================] - 22s 340ms/step - loss: 0.7629 - accuracy: 0.9870 - val_loss: 2.3881 - val_accuracy: 0.9820\n",
            "Epoch 41/50\n",
            "63/63 [==============================] - 22s 341ms/step - loss: 0.5611 - accuracy: 0.9860 - val_loss: 2.5593 - val_accuracy: 0.9800\n",
            "Epoch 42/50\n",
            "63/63 [==============================] - 22s 340ms/step - loss: 0.7328 - accuracy: 0.9860 - val_loss: 3.1443 - val_accuracy: 0.9790\n",
            "Epoch 43/50\n",
            "63/63 [==============================] - 22s 341ms/step - loss: 0.6614 - accuracy: 0.9875 - val_loss: 2.2687 - val_accuracy: 0.9780\n",
            "Epoch 44/50\n",
            "63/63 [==============================] - 22s 340ms/step - loss: 0.8633 - accuracy: 0.9820 - val_loss: 2.1692 - val_accuracy: 0.9800\n",
            "Epoch 45/50\n",
            "63/63 [==============================] - 22s 341ms/step - loss: 0.4748 - accuracy: 0.9900 - val_loss: 2.2127 - val_accuracy: 0.9840\n",
            "Epoch 46/50\n",
            "63/63 [==============================] - 22s 341ms/step - loss: 0.7785 - accuracy: 0.9855 - val_loss: 3.7664 - val_accuracy: 0.9730\n",
            "Epoch 47/50\n",
            "63/63 [==============================] - 22s 341ms/step - loss: 0.5868 - accuracy: 0.9880 - val_loss: 2.4243 - val_accuracy: 0.9790\n",
            "Epoch 48/50\n",
            "63/63 [==============================] - 22s 340ms/step - loss: 0.3323 - accuracy: 0.9945 - val_loss: 2.1745 - val_accuracy: 0.9830\n",
            "Epoch 49/50\n",
            "63/63 [==============================] - 22s 345ms/step - loss: 0.2803 - accuracy: 0.9940 - val_loss: 1.9642 - val_accuracy: 0.9810\n",
            "Epoch 50/50\n",
            "63/63 [==============================] - 22s 341ms/step - loss: 0.5819 - accuracy: 0.9890 - val_loss: 2.0243 - val_accuracy: 0.9790\n"
          ]
        }
      ]
    },
    {
      "cell_type": "markdown",
      "metadata": {
        "id": "NZeVqDgrLJgJ"
      },
      "source": [
        "**Evaluating the model on the test set**"
      ]
    },
    {
      "cell_type": "code",
      "metadata": {
        "id": "1a7rXKp5LJgJ",
        "colab": {
          "base_uri": "https://localhost:8080/"
        },
        "outputId": "a9baf4b1-16ed-4f84-8ee0-9e81da0a0423"
      },
      "source": [
        "test_model = keras.models.load_model(\n",
        "    \"feature_extraction_with_data_augmentation.keras\")\n",
        "test_loss, test_acc = test_model.evaluate(test_dataset)\n",
        "print(f\"Test accuracy: {test_acc:.3f}\")"
      ],
      "execution_count": 42,
      "outputs": [
        {
          "output_type": "stream",
          "name": "stdout",
          "text": [
            "32/32 [==============================] - 8s 216ms/step - loss: 2.3880 - accuracy: 0.9770\n",
            "Test accuracy: 0.977\n"
          ]
        }
      ]
    },
    {
      "cell_type": "markdown",
      "metadata": {
        "id": "D51I3dJALJgJ"
      },
      "source": [
        "### A pretrained VGG16 model with Fine-tuning \n",
        "\n",
        "**Fine-tuning the model**\n",
        "Fine-tuning involves unfreezing a few of the top layers of a frozen model base used for feature extraction and training both the newly added element of the model (in this case, the fully connected classifier) and these top layers at the same time. Fine-tuning is the process of slightly adjusting the more abstract representations of the model that are being reused to make them more relevant to the task at hand.\n",
        "\n",
        "### test accuracy - 97.5%\n",
        "\n",
        "### training accuracy - 98.01%\n",
        "\n",
        "### validation accuracy - 99.00%\n"
      ]
    },
    {
      "cell_type": "code",
      "metadata": {
        "id": "N0V2rv5RLJgJ",
        "colab": {
          "base_uri": "https://localhost:8080/"
        },
        "outputId": "e4aa3af7-8dae-4484-ec89-61d20dee0098"
      },
      "source": [
        "conv_base.summary()"
      ],
      "execution_count": 43,
      "outputs": [
        {
          "output_type": "stream",
          "name": "stdout",
          "text": [
            "Model: \"vgg16\"\n",
            "_________________________________________________________________\n",
            " Layer (type)                Output Shape              Param #   \n",
            "=================================================================\n",
            " input_6 (InputLayer)        [(None, None, None, 3)]   0         \n",
            "                                                                 \n",
            " block1_conv1 (Conv2D)       (None, None, None, 64)    1792      \n",
            "                                                                 \n",
            " block1_conv2 (Conv2D)       (None, None, None, 64)    36928     \n",
            "                                                                 \n",
            " block1_pool (MaxPooling2D)  (None, None, None, 64)    0         \n",
            "                                                                 \n",
            " block2_conv1 (Conv2D)       (None, None, None, 128)   73856     \n",
            "                                                                 \n",
            " block2_conv2 (Conv2D)       (None, None, None, 128)   147584    \n",
            "                                                                 \n",
            " block2_pool (MaxPooling2D)  (None, None, None, 128)   0         \n",
            "                                                                 \n",
            " block3_conv1 (Conv2D)       (None, None, None, 256)   295168    \n",
            "                                                                 \n",
            " block3_conv2 (Conv2D)       (None, None, None, 256)   590080    \n",
            "                                                                 \n",
            " block3_conv3 (Conv2D)       (None, None, None, 256)   590080    \n",
            "                                                                 \n",
            " block3_pool (MaxPooling2D)  (None, None, None, 256)   0         \n",
            "                                                                 \n",
            " block4_conv1 (Conv2D)       (None, None, None, 512)   1180160   \n",
            "                                                                 \n",
            " block4_conv2 (Conv2D)       (None, None, None, 512)   2359808   \n",
            "                                                                 \n",
            " block4_conv3 (Conv2D)       (None, None, None, 512)   2359808   \n",
            "                                                                 \n",
            " block4_pool (MaxPooling2D)  (None, None, None, 512)   0         \n",
            "                                                                 \n",
            " block5_conv1 (Conv2D)       (None, None, None, 512)   2359808   \n",
            "                                                                 \n",
            " block5_conv2 (Conv2D)       (None, None, None, 512)   2359808   \n",
            "                                                                 \n",
            " block5_conv3 (Conv2D)       (None, None, None, 512)   2359808   \n",
            "                                                                 \n",
            " block5_pool (MaxPooling2D)  (None, None, None, 512)   0         \n",
            "                                                                 \n",
            "=================================================================\n",
            "Total params: 14,714,688\n",
            "Trainable params: 0\n",
            "Non-trainable params: 14,714,688\n",
            "_________________________________________________________________\n"
          ]
        }
      ]
    },
    {
      "cell_type": "markdown",
      "metadata": {
        "id": "cUR7EUYmLJgJ"
      },
      "source": [
        "**Freezing all layers until the fourth from the last**"
      ]
    },
    {
      "cell_type": "code",
      "metadata": {
        "id": "9afcG21WLJgJ"
      },
      "source": [
        "conv_base.trainable = True\n",
        "for layer in conv_base.layers[:-4]:\n",
        "    layer.trainable = False"
      ],
      "execution_count": 44,
      "outputs": []
    },
    {
      "cell_type": "markdown",
      "metadata": {
        "id": "44SPsGOiLJgJ"
      },
      "source": [
        "**Fine-tuning the model**"
      ]
    },
    {
      "cell_type": "code",
      "metadata": {
        "id": "BNfNf5C6LJgJ",
        "colab": {
          "base_uri": "https://localhost:8080/"
        },
        "outputId": "4d78417f-7ace-4563-897a-6a7f88aa8d32"
      },
      "source": [
        "model.compile(loss=\"binary_crossentropy\",\n",
        "              optimizer=keras.optimizers.RMSprop(learning_rate=1e-5),\n",
        "              metrics=[\"accuracy\"])\n",
        "\n",
        "callbacks = [\n",
        "    keras.callbacks.ModelCheckpoint(\n",
        "        filepath=\"fine_tuning.keras\",\n",
        "        save_best_only=True,\n",
        "        monitor=\"val_loss\")\n",
        "]\n",
        "history = model.fit(\n",
        "    train_dataset,\n",
        "    epochs=30,\n",
        "    validation_data=validation_dataset,\n",
        "    callbacks=callbacks)"
      ],
      "execution_count": 45,
      "outputs": [
        {
          "output_type": "stream",
          "name": "stdout",
          "text": [
            "Epoch 1/30\n",
            "63/63 [==============================] - 26s 377ms/step - loss: 0.3570 - accuracy: 0.9930 - val_loss: 1.7360 - val_accuracy: 0.9880\n",
            "Epoch 2/30\n",
            "63/63 [==============================] - 24s 373ms/step - loss: 0.3190 - accuracy: 0.9925 - val_loss: 2.0822 - val_accuracy: 0.9820\n",
            "Epoch 3/30\n",
            "63/63 [==============================] - 24s 370ms/step - loss: 0.4510 - accuracy: 0.9905 - val_loss: 2.1986 - val_accuracy: 0.9770\n",
            "Epoch 4/30\n",
            "63/63 [==============================] - 24s 370ms/step - loss: 0.5700 - accuracy: 0.9875 - val_loss: 2.2732 - val_accuracy: 0.9770\n",
            "Epoch 5/30\n",
            "63/63 [==============================] - 23s 369ms/step - loss: 0.3730 - accuracy: 0.9890 - val_loss: 1.8103 - val_accuracy: 0.9800\n",
            "Epoch 6/30\n",
            "63/63 [==============================] - 24s 369ms/step - loss: 0.2126 - accuracy: 0.9945 - val_loss: 2.0494 - val_accuracy: 0.9790\n",
            "Epoch 7/30\n",
            "63/63 [==============================] - 24s 375ms/step - loss: 0.3888 - accuracy: 0.9905 - val_loss: 1.5445 - val_accuracy: 0.9820\n",
            "Epoch 8/30\n",
            "63/63 [==============================] - 24s 370ms/step - loss: 0.3400 - accuracy: 0.9905 - val_loss: 1.6547 - val_accuracy: 0.9830\n",
            "Epoch 9/30\n",
            "63/63 [==============================] - 24s 375ms/step - loss: 0.3218 - accuracy: 0.9920 - val_loss: 1.3458 - val_accuracy: 0.9830\n",
            "Epoch 10/30\n",
            "63/63 [==============================] - 23s 368ms/step - loss: 0.2333 - accuracy: 0.9940 - val_loss: 1.4978 - val_accuracy: 0.9770\n",
            "Epoch 11/30\n",
            "63/63 [==============================] - 23s 367ms/step - loss: 0.1683 - accuracy: 0.9940 - val_loss: 1.9779 - val_accuracy: 0.9770\n",
            "Epoch 12/30\n",
            "63/63 [==============================] - 23s 368ms/step - loss: 0.1759 - accuracy: 0.9950 - val_loss: 1.8812 - val_accuracy: 0.9820\n",
            "Epoch 13/30\n",
            "63/63 [==============================] - 23s 368ms/step - loss: 0.2279 - accuracy: 0.9950 - val_loss: 1.7542 - val_accuracy: 0.9800\n",
            "Epoch 14/30\n",
            "63/63 [==============================] - 23s 368ms/step - loss: 0.1163 - accuracy: 0.9950 - val_loss: 1.7869 - val_accuracy: 0.9790\n",
            "Epoch 15/30\n",
            "63/63 [==============================] - 24s 371ms/step - loss: 0.1276 - accuracy: 0.9955 - val_loss: 2.2261 - val_accuracy: 0.9780\n",
            "Epoch 16/30\n",
            "63/63 [==============================] - 23s 369ms/step - loss: 0.0935 - accuracy: 0.9945 - val_loss: 2.4351 - val_accuracy: 0.9770\n",
            "Epoch 17/30\n",
            "63/63 [==============================] - 24s 371ms/step - loss: 0.1702 - accuracy: 0.9945 - val_loss: 1.8765 - val_accuracy: 0.9780\n",
            "Epoch 18/30\n",
            "63/63 [==============================] - 23s 369ms/step - loss: 0.2734 - accuracy: 0.9935 - val_loss: 1.4959 - val_accuracy: 0.9790\n",
            "Epoch 19/30\n",
            "63/63 [==============================] - 23s 369ms/step - loss: 0.1928 - accuracy: 0.9965 - val_loss: 2.1620 - val_accuracy: 0.9760\n",
            "Epoch 20/30\n",
            "63/63 [==============================] - 24s 369ms/step - loss: 0.1305 - accuracy: 0.9970 - val_loss: 3.9506 - val_accuracy: 0.9650\n",
            "Epoch 21/30\n",
            "63/63 [==============================] - 23s 369ms/step - loss: 0.1436 - accuracy: 0.9930 - val_loss: 1.5840 - val_accuracy: 0.9800\n",
            "Epoch 22/30\n",
            "63/63 [==============================] - 24s 369ms/step - loss: 0.1815 - accuracy: 0.9940 - val_loss: 2.2373 - val_accuracy: 0.9760\n",
            "Epoch 23/30\n",
            "63/63 [==============================] - 24s 369ms/step - loss: 0.1869 - accuracy: 0.9920 - val_loss: 2.5804 - val_accuracy: 0.9750\n",
            "Epoch 24/30\n",
            "63/63 [==============================] - 23s 368ms/step - loss: 0.1184 - accuracy: 0.9955 - val_loss: 1.9215 - val_accuracy: 0.9750\n",
            "Epoch 25/30\n",
            "63/63 [==============================] - 23s 367ms/step - loss: 0.0593 - accuracy: 0.9965 - val_loss: 1.5346 - val_accuracy: 0.9810\n",
            "Epoch 26/30\n",
            "63/63 [==============================] - 23s 368ms/step - loss: 0.0973 - accuracy: 0.9965 - val_loss: 2.0694 - val_accuracy: 0.9770\n",
            "Epoch 27/30\n",
            "63/63 [==============================] - 24s 370ms/step - loss: 0.2013 - accuracy: 0.9940 - val_loss: 1.6867 - val_accuracy: 0.9790\n",
            "Epoch 28/30\n",
            "63/63 [==============================] - 23s 367ms/step - loss: 0.0961 - accuracy: 0.9955 - val_loss: 2.0037 - val_accuracy: 0.9770\n",
            "Epoch 29/30\n",
            "63/63 [==============================] - 23s 367ms/step - loss: 0.0863 - accuracy: 0.9960 - val_loss: 1.8714 - val_accuracy: 0.9770\n",
            "Epoch 30/30\n",
            "63/63 [==============================] - 23s 368ms/step - loss: 0.1352 - accuracy: 0.9960 - val_loss: 1.7195 - val_accuracy: 0.9780\n"
          ]
        }
      ]
    },
    {
      "cell_type": "code",
      "metadata": {
        "id": "QTO5M9XHLJgK",
        "colab": {
          "base_uri": "https://localhost:8080/"
        },
        "outputId": "2c2c7443-df52-4e64-cee7-792c7cb7de8a"
      },
      "source": [
        "model = keras.models.load_model(\"fine_tuning.keras\")\n",
        "test_loss, test_acc = model.evaluate(test_dataset)\n",
        "print(f\"Test accuracy: {test_acc:.3f}\")"
      ],
      "execution_count": 46,
      "outputs": [
        {
          "output_type": "stream",
          "name": "stdout",
          "text": [
            "32/32 [==============================] - 7s 215ms/step - loss: 2.0073 - accuracy: 0.9750\n",
            "Test accuracy: 0.975\n"
          ]
        }
      ]
    },
    {
      "cell_type": "markdown",
      "metadata": {
        "id": "47PdlIiBTRnO"
      },
      "source": [
        "## Summary\n",
        "\n",
        "#using the  pre-trained model with out Augmentation \n",
        "we find that the validation accuracy of about it indicates that we were able to achieve an improvement from the above  when we started from the small scratch with the small model.and also when using pre-trained features,this isn't always the case.\n",
        "Despite  employing a high rate of dropout ,the plots also show that we are overfitting nearly from the beginning.This is due to fact that this method does not employ data augmentation ,which is critical  for avoiding overfitting with the tiny images data set.\n",
        "using the pre-trained model with augmentation\n",
        "The accuracy of a model is always determined by the collection of samples used to test it! some samples sets may be more challenging than others, and good results on one set may not necessarily apply to all others .Pretrained model was created  as a result of it there was a small gain in accuracy with augmentation from 98% to - 99%\n",
        "\n",
        "using pre-trained models with fine tuning \n",
        "we have  a test  accuracy of 97.5% in the case\n",
        "With the one point range accuracy ,the accuracy results may varry"
      ]
    }
  ]
}